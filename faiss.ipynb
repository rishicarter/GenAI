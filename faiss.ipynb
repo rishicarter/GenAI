{
 "cells": [
  {
   "cell_type": "code",
   "execution_count": 42,
   "id": "ba88e5be",
   "metadata": {},
   "outputs": [],
   "source": [
    "import pandas as pd\n",
    "import faiss\n",
    "import json"
   ]
  },
  {
   "cell_type": "code",
   "execution_count": 2,
   "id": "d94c7b0e",
   "metadata": {},
   "outputs": [],
   "source": [
    "data = \"\"\"Lionel Andrés Messi is an Argentine professional footballer widely regarded as one of the greatest players in the sport's history. Renowned for his dribbling, playmaking, and goal-scoring consistency, he has defined an era in club and international football with unprecedented records and sustained excellence.\n",
    "\n",
    "Early life\n",
    "Born on 24 June 1987 in Rosario, Argentina, Messi grew up in a footballing household and joined Newell's Old Boys youth ranks.\n",
    "\n",
    "Diagnosed with a growth hormone deficiency, he moved to Barcelona at 13 after the club offered to cover his medical treatment.\n",
    "\n",
    "His youth development at La Masia refined his balance, vision, and close control, shaping the foundation for his trademark low center of gravity and elite technical execution.\n",
    "\n",
    "Barcelona era\n",
    "Senior debut at 17 in 2004; became Barcelona's all-time top scorer with a staggering goal tally and assist count across all competitions.\n",
    "\n",
    "Under coaches Frank Rijkaard and Pep Guardiola, Messi evolved from a right-sided forward into a false nine, then into a free-roaming playmaker-forward hybrid.\n",
    "\n",
    "Formed historic partnerships with Xavi, Iniesta, Neymar, and Suarez, driving Barcelona to domestic and European dominance.\n",
    "\n",
    "Key achievements included multiple La Liga titles, UEFA Champions League triumphs, and the 2011 peak-era side often cited as one of the greatest club teams ever.\n",
    "\n",
    "The 2012 calendar year yielded a world-record 91 goals, illustrating his capacity for consistent, multi-competition output.\n",
    "\n",
    "PSG chapter\n",
    "Joined Paris Saint-Germain in 2021, adapting to a new league and tactical environment while linking with Kylian Mbappé and Neymar.\n",
    "\n",
    "Contributed as a chance creator and scorer, adding Ligue 1 titles and honing a deeper playmaking role that emphasized progressive passing, through-balls, and set-piece craft.\n",
    "\n",
    "Inter Miami impact\n",
    "Moved to Inter Miami in 2023 and immediately transformed the club's trajectory, winning the Leagues Cup 2023 and energizing MLS viewership and global attention.\n",
    "\n",
    "Operated as a roaming 10/false nine, orchestrating play, finishing chances, and elevating teammates through tempo control and final-third decision-making.\n",
    "\n",
    "Argentina journey\n",
    "Debuted for the senior national team in 2005, facing early scrutiny over international finals defeats but showing unwavering leadership and resilience.\n",
    "\n",
    "Captained Argentina to Copa América 2021, ending a long national drought; then won the Finalissima 2022 against Italy with a dominant display.\n",
    "\n",
    "Crowned FIFA World Cup champion in 2022, producing decisive goals and assists, and receiving the Golden Ball as the tournament's best player.\n",
    "\n",
    "Added the Copa América 2024 title, cementing a legacy of sustained international success across multiple cycles.\n",
    "\n",
    "Playing style\n",
    "Dribbling: Signature close control, rapid hip feints, and body swerves create separation in tight spaces and at speed.\n",
    "\n",
    "Vision: Elite spatial awareness and timing enable defense-splitting passes and intelligent overloads between lines.\n",
    "\n",
    "Finishing: Precise left-footed strikes, low-driven finishes, and curling shots from the edge of the box.\n",
    "\n",
    "Set pieces: Prolific free-kick specialist with a variety of trajectories and wall-bypassing techniques.\n",
    "\n",
    "Off-ball intelligence: Drift-and-receive patterns that create passing triangles, interior overloads, and progressive passing lanes.\n",
    "\n",
    "Press resistance: Ability to receive under pressure, turn defenders, and retain possession in small pockets.\n",
    "\n",
    "Leadership: Calmer, example-led captaincy built on consistency, clutch performances, and raising collective tempo.\n",
    "\n",
    "Records and milestones\n",
    "Most Ballon d'Or awards with a record total, reflecting dominance across different tactical eras and competitions.\n",
    "\n",
    "Most goals in a calendar year with 91 in 2012, a modern benchmark for sustained match-to-match scoring.\n",
    "\n",
    "All-time top scorer for Barcelona and La Liga, with records for goals and assists that spanned over a decade of league play.\n",
    "\n",
    "Multiple European Golden Shoes and Champions League scoring titles, showcasing repeatable output against elite opposition.\n",
    "\n",
    "Two World Cup Golden Balls (2014, 2022), underlining top-tier influence across separate tournament cycles.\n",
    "\n",
    "Club and country career surpassing 800 total senior goals and a massive assist count, spanning domestic leagues, international play, and continental club competitions.\"\"\""
   ]
  },
  {
   "cell_type": "code",
   "execution_count": 3,
   "id": "89135e0e",
   "metadata": {},
   "outputs": [],
   "source": [
    "clean_data = data.strip()"
   ]
  },
  {
   "cell_type": "code",
   "execution_count": 7,
   "id": "0bb74721",
   "metadata": {},
   "outputs": [],
   "source": [
    "max_char = 800\n",
    "overlap = 100\n",
    "chunks = []\n",
    "i = 0\n",
    "while i < len(clean_data):\n",
    "    piece = clean_data[i:i+max_char]\n",
    "    chunks.append(piece)\n",
    "    i = i + max_char - overlap"
   ]
  },
  {
   "cell_type": "code",
   "execution_count": null,
   "id": "784b9915",
   "metadata": {},
   "outputs": [],
   "source": [
    "import requests\n",
    "import numpy as np\n",
    "\n",
    "def generate_embeddings(text):\n",
    "    url = \"https://api.euron.one/api/v1/euri/embeddings\"\n",
    "    headers = {\n",
    "        \"Content-Type\": \"application/json\",\n",
    "        \"Authorization\": \"Bearer \"\n",
    "    }\n",
    "    payload = {\n",
    "        \"input\": text,\n",
    "        \"model\": \"text-embedding-3-small\"\n",
    "    }\n",
    "\n",
    "    response = requests.post(url, headers=headers, json=payload)\n",
    "    data = response.json()\n",
    "    \n",
    "    embedding = np.array(data['data'][0]['embedding'])\n",
    "    \n",
    "    return embedding"
   ]
  },
  {
   "cell_type": "code",
   "execution_count": 8,
   "id": "73c5809a",
   "metadata": {},
   "outputs": [
    {
     "data": {
      "text/plain": [
       "[\"Lionel Andrés Messi is an Argentine professional footballer widely regarded as one of the greatest players in the sport's history. Renowned for his dribbling, playmaking, and goal-scoring consistency, he has defined an era in club and international football with unprecedented records and sustained excellence.\\n\\nEarly life\\nBorn on 24 June 1987 in Rosario, Argentina, Messi grew up in a footballing household and joined Newell's Old Boys youth ranks.\\n\\nDiagnosed with a growth hormone deficiency, he moved to Barcelona at 13 after the club offered to cover his medical treatment.\\n\\nHis youth development at La Masia refined his balance, vision, and close control, shaping the foundation for his trademark low center of gravity and elite technical execution.\\n\\nBarcelona era\\nSenior debut at 17 in 2004; be\",\n",
       " \"k low center of gravity and elite technical execution.\\n\\nBarcelona era\\nSenior debut at 17 in 2004; became Barcelona's all-time top scorer with a staggering goal tally and assist count across all competitions.\\n\\nUnder coaches Frank Rijkaard and Pep Guardiola, Messi evolved from a right-sided forward into a false nine, then into a free-roaming playmaker-forward hybrid.\\n\\nFormed historic partnerships with Xavi, Iniesta, Neymar, and Suarez, driving Barcelona to domestic and European dominance.\\n\\nKey achievements included multiple La Liga titles, UEFA Champions League triumphs, and the 2011 peak-era side often cited as one of the greatest club teams ever.\\n\\nThe 2012 calendar year yielded a world-record 91 goals, illustrating his capacity for consistent, multi-competition output.\\n\\nPSG chapter\\nJoined \",\n",
       " \"d 91 goals, illustrating his capacity for consistent, multi-competition output.\\n\\nPSG chapter\\nJoined Paris Saint-Germain in 2021, adapting to a new league and tactical environment while linking with Kylian Mbappé and Neymar.\\n\\nContributed as a chance creator and scorer, adding Ligue 1 titles and honing a deeper playmaking role that emphasized progressive passing, through-balls, and set-piece craft.\\n\\nInter Miami impact\\nMoved to Inter Miami in 2023 and immediately transformed the club's trajectory, winning the Leagues Cup 2023 and energizing MLS viewership and global attention.\\n\\nOperated as a roaming 10/false nine, orchestrating play, finishing chances, and elevating teammates through tempo control and final-third decision-making.\\n\\nArgentina journey\\nDebuted for the senior national team in 2005\",\n",
       " \"rol and final-third decision-making.\\n\\nArgentina journey\\nDebuted for the senior national team in 2005, facing early scrutiny over international finals defeats but showing unwavering leadership and resilience.\\n\\nCaptained Argentina to Copa América 2021, ending a long national drought; then won the Finalissima 2022 against Italy with a dominant display.\\n\\nCrowned FIFA World Cup champion in 2022, producing decisive goals and assists, and receiving the Golden Ball as the tournament's best player.\\n\\nAdded the Copa América 2024 title, cementing a legacy of sustained international success across multiple cycles.\\n\\nPlaying style\\nDribbling: Signature close control, rapid hip feints, and body swerves create separation in tight spaces and at speed.\\n\\nVision: Elite spatial awareness and timing enable defens\",\n",
       " \"e separation in tight spaces and at speed.\\n\\nVision: Elite spatial awareness and timing enable defense-splitting passes and intelligent overloads between lines.\\n\\nFinishing: Precise left-footed strikes, low-driven finishes, and curling shots from the edge of the box.\\n\\nSet pieces: Prolific free-kick specialist with a variety of trajectories and wall-bypassing techniques.\\n\\nOff-ball intelligence: Drift-and-receive patterns that create passing triangles, interior overloads, and progressive passing lanes.\\n\\nPress resistance: Ability to receive under pressure, turn defenders, and retain possession in small pockets.\\n\\nLeadership: Calmer, example-led captaincy built on consistency, clutch performances, and raising collective tempo.\\n\\nRecords and milestones\\nMost Ballon d'Or awards with a record total, r\",\n",
       " \"and raising collective tempo.\\n\\nRecords and milestones\\nMost Ballon d'Or awards with a record total, reflecting dominance across different tactical eras and competitions.\\n\\nMost goals in a calendar year with 91 in 2012, a modern benchmark for sustained match-to-match scoring.\\n\\nAll-time top scorer for Barcelona and La Liga, with records for goals and assists that spanned over a decade of league play.\\n\\nMultiple European Golden Shoes and Champions League scoring titles, showcasing repeatable output against elite opposition.\\n\\nTwo World Cup Golden Balls (2014, 2022), underlining top-tier influence across separate tournament cycles.\\n\\nClub and country career surpassing 800 total senior goals and a massive assist count, spanning domestic leagues, international play, and continental club competitions.\",\n",
       " 'sive assist count, spanning domestic leagues, international play, and continental club competitions.']"
      ]
     },
     "execution_count": 8,
     "metadata": {},
     "output_type": "execute_result"
    }
   ],
   "source": [
    "chunks"
   ]
  },
  {
   "cell_type": "code",
   "execution_count": 16,
   "id": "c6eabd92",
   "metadata": {},
   "outputs": [
    {
     "data": {
      "text/html": [
       "<div>\n",
       "<style scoped>\n",
       "    .dataframe tbody tr th:only-of-type {\n",
       "        vertical-align: middle;\n",
       "    }\n",
       "\n",
       "    .dataframe tbody tr th {\n",
       "        vertical-align: top;\n",
       "    }\n",
       "\n",
       "    .dataframe thead th {\n",
       "        text-align: right;\n",
       "    }\n",
       "</style>\n",
       "<table border=\"1\" class=\"dataframe\">\n",
       "  <thead>\n",
       "    <tr style=\"text-align: right;\">\n",
       "      <th></th>\n",
       "      <th>id</th>\n",
       "      <th>text</th>\n",
       "    </tr>\n",
       "  </thead>\n",
       "  <tbody>\n",
       "    <tr>\n",
       "      <th>0</th>\n",
       "      <td>1</td>\n",
       "      <td>Lionel Andrés Messi is an Argentine profession...</td>\n",
       "    </tr>\n",
       "    <tr>\n",
       "      <th>1</th>\n",
       "      <td>2</td>\n",
       "      <td>k low center of gravity and elite technical ex...</td>\n",
       "    </tr>\n",
       "    <tr>\n",
       "      <th>2</th>\n",
       "      <td>3</td>\n",
       "      <td>d 91 goals, illustrating his capacity for cons...</td>\n",
       "    </tr>\n",
       "    <tr>\n",
       "      <th>3</th>\n",
       "      <td>4</td>\n",
       "      <td>rol and final-third decision-making.\\n\\nArgent...</td>\n",
       "    </tr>\n",
       "    <tr>\n",
       "      <th>4</th>\n",
       "      <td>5</td>\n",
       "      <td>e separation in tight spaces and at speed.\\n\\n...</td>\n",
       "    </tr>\n",
       "    <tr>\n",
       "      <th>5</th>\n",
       "      <td>6</td>\n",
       "      <td>and raising collective tempo.\\n\\nRecords and m...</td>\n",
       "    </tr>\n",
       "    <tr>\n",
       "      <th>6</th>\n",
       "      <td>7</td>\n",
       "      <td>sive assist count, spanning domestic leagues, ...</td>\n",
       "    </tr>\n",
       "  </tbody>\n",
       "</table>\n",
       "</div>"
      ],
      "text/plain": [
       "   id                                               text\n",
       "0   1  Lionel Andrés Messi is an Argentine profession...\n",
       "1   2  k low center of gravity and elite technical ex...\n",
       "2   3  d 91 goals, illustrating his capacity for cons...\n",
       "3   4  rol and final-third decision-making.\\n\\nArgent...\n",
       "4   5  e separation in tight spaces and at speed.\\n\\n...\n",
       "5   6  and raising collective tempo.\\n\\nRecords and m...\n",
       "6   7  sive assist count, spanning domestic leagues, ..."
      ]
     },
     "execution_count": 16,
     "metadata": {},
     "output_type": "execute_result"
    }
   ],
   "source": [
    "df = pd.DataFrame([{\"id\": i+1, \"text\": chunk} for i, chunk in enumerate(chunks)])\n",
    "df"
   ]
  },
  {
   "cell_type": "code",
   "execution_count": 31,
   "id": "fcc43364",
   "metadata": {},
   "outputs": [
    {
     "data": {
      "text/plain": [
       "7"
      ]
     },
     "execution_count": 31,
     "metadata": {},
     "output_type": "execute_result"
    }
   ],
   "source": [
    "embeddings = [generate_embeddings(chunk).astype('float32') for chunk in chunks]\n",
    "len(embeddings)"
   ]
  },
  {
   "cell_type": "code",
   "execution_count": 18,
   "id": "a1d82749",
   "metadata": {},
   "outputs": [
    {
     "data": {
      "text/html": [
       "<div>\n",
       "<style scoped>\n",
       "    .dataframe tbody tr th:only-of-type {\n",
       "        vertical-align: middle;\n",
       "    }\n",
       "\n",
       "    .dataframe tbody tr th {\n",
       "        vertical-align: top;\n",
       "    }\n",
       "\n",
       "    .dataframe thead th {\n",
       "        text-align: right;\n",
       "    }\n",
       "</style>\n",
       "<table border=\"1\" class=\"dataframe\">\n",
       "  <thead>\n",
       "    <tr style=\"text-align: right;\">\n",
       "      <th></th>\n",
       "      <th>id</th>\n",
       "      <th>text</th>\n",
       "      <th>embeddings</th>\n",
       "    </tr>\n",
       "  </thead>\n",
       "  <tbody>\n",
       "    <tr>\n",
       "      <th>0</th>\n",
       "      <td>1</td>\n",
       "      <td>Lionel Andrés Messi is an Argentine profession...</td>\n",
       "      <td>[0.04417627, -0.05338783, 0.0036601236, 0.0227...</td>\n",
       "    </tr>\n",
       "    <tr>\n",
       "      <th>1</th>\n",
       "      <td>2</td>\n",
       "      <td>k low center of gravity and elite technical ex...</td>\n",
       "      <td>[0.041532047, -0.0297674, 0.017267464, -0.0299...</td>\n",
       "    </tr>\n",
       "    <tr>\n",
       "      <th>2</th>\n",
       "      <td>3</td>\n",
       "      <td>d 91 goals, illustrating his capacity for cons...</td>\n",
       "      <td>[0.0024025533, -0.03145853, 0.05397969, -0.013...</td>\n",
       "    </tr>\n",
       "    <tr>\n",
       "      <th>3</th>\n",
       "      <td>4</td>\n",
       "      <td>rol and final-third decision-making.\\n\\nArgent...</td>\n",
       "      <td>[0.013397696, -0.023585001, 0.044793807, -0.02...</td>\n",
       "    </tr>\n",
       "    <tr>\n",
       "      <th>4</th>\n",
       "      <td>5</td>\n",
       "      <td>e separation in tight spaces and at speed.\\n\\n...</td>\n",
       "      <td>[0.04461679, 0.015987191, 0.07603125, -0.01060...</td>\n",
       "    </tr>\n",
       "    <tr>\n",
       "      <th>5</th>\n",
       "      <td>6</td>\n",
       "      <td>and raising collective tempo.\\n\\nRecords and m...</td>\n",
       "      <td>[0.0701848, 0.0071828635, 0.079857245, -0.0039...</td>\n",
       "    </tr>\n",
       "    <tr>\n",
       "      <th>6</th>\n",
       "      <td>7</td>\n",
       "      <td>sive assist count, spanning domestic leagues, ...</td>\n",
       "      <td>[-0.0036275818, 0.007166852, 0.08744238, -0.01...</td>\n",
       "    </tr>\n",
       "  </tbody>\n",
       "</table>\n",
       "</div>"
      ],
      "text/plain": [
       "   id                                               text  \\\n",
       "0   1  Lionel Andrés Messi is an Argentine profession...   \n",
       "1   2  k low center of gravity and elite technical ex...   \n",
       "2   3  d 91 goals, illustrating his capacity for cons...   \n",
       "3   4  rol and final-third decision-making.\\n\\nArgent...   \n",
       "4   5  e separation in tight spaces and at speed.\\n\\n...   \n",
       "5   6  and raising collective tempo.\\n\\nRecords and m...   \n",
       "6   7  sive assist count, spanning domestic leagues, ...   \n",
       "\n",
       "                                          embeddings  \n",
       "0  [0.04417627, -0.05338783, 0.0036601236, 0.0227...  \n",
       "1  [0.041532047, -0.0297674, 0.017267464, -0.0299...  \n",
       "2  [0.0024025533, -0.03145853, 0.05397969, -0.013...  \n",
       "3  [0.013397696, -0.023585001, 0.044793807, -0.02...  \n",
       "4  [0.04461679, 0.015987191, 0.07603125, -0.01060...  \n",
       "5  [0.0701848, 0.0071828635, 0.079857245, -0.0039...  \n",
       "6  [-0.0036275818, 0.007166852, 0.08744238, -0.01...  "
      ]
     },
     "execution_count": 18,
     "metadata": {},
     "output_type": "execute_result"
    }
   ],
   "source": [
    "df['embeddings'] = df['text'].apply(lambda x: generate_embeddings(x).astype('float32'))\n",
    "df"
   ]
  },
  {
   "cell_type": "code",
   "execution_count": 28,
   "id": "4063b308",
   "metadata": {},
   "outputs": [
    {
     "data": {
      "text/plain": [
       "[array([ 0.04417627, -0.05338783,  0.00366012, ...,  0.01487568,\n",
       "         0.00291291,  0.02653712], dtype=float32),\n",
       " array([ 0.04153205, -0.0297674 ,  0.01726746, ...,  0.01483626,\n",
       "         0.01801461, -0.0159392 ], dtype=float32),\n",
       " array([ 0.00240255, -0.03145853,  0.05397969, ..., -0.00349116,\n",
       "        -0.01985518, -0.01030845], dtype=float32),\n",
       " array([ 0.0133977 , -0.023585  ,  0.04479381, ...,  0.02717457,\n",
       "         0.00022573,  0.01842815], dtype=float32),\n",
       " array([ 0.04461679,  0.01598719,  0.07603125, ...,  0.00848721,\n",
       "        -0.01555988, -0.00690323], dtype=float32),\n",
       " array([0.0701848 , 0.00718286, 0.07985725, ..., 0.00334128, 0.01415131,\n",
       "        0.02453847], dtype=float32),\n",
       " array([-0.00362758,  0.00716685,  0.08744238, ...,  0.01000642,\n",
       "        -0.0029058 ,  0.03412916], dtype=float32)]"
      ]
     },
     "execution_count": 28,
     "metadata": {},
     "output_type": "execute_result"
    }
   ],
   "source": [
    "df['embeddings'].to_list()"
   ]
  },
  {
   "cell_type": "code",
   "execution_count": 21,
   "id": "80ef7562",
   "metadata": {},
   "outputs": [],
   "source": [
    "embeddings = df['embeddings'].to_numpy()"
   ]
  },
  {
   "cell_type": "code",
   "execution_count": 33,
   "id": "f0f55f3a",
   "metadata": {},
   "outputs": [
    {
     "data": {
      "text/plain": [
       "array([[ 0.0442039 , -0.05337385,  0.0036959 , ...,  0.0148228 ,\n",
       "         0.00294399,  0.02653017],\n",
       "       [ 0.04153205, -0.0297674 ,  0.01726746, ...,  0.01483626,\n",
       "         0.01801461, -0.0159392 ],\n",
       "       [ 0.00245114, -0.03145079,  0.05406794, ..., -0.00348713,\n",
       "        -0.01985029, -0.01036937],\n",
       "       ...,\n",
       "       [ 0.04461679,  0.01598719,  0.07603125, ...,  0.00848721,\n",
       "        -0.01555988, -0.00690323],\n",
       "       [ 0.07021192,  0.00719267,  0.07983392, ...,  0.00335221,\n",
       "         0.01415909,  0.02455512],\n",
       "       [-0.00362758,  0.00716685,  0.08744238, ...,  0.01000642,\n",
       "        -0.0029058 ,  0.03412916]], dtype=float32)"
      ]
     },
     "execution_count": 33,
     "metadata": {},
     "output_type": "execute_result"
    }
   ],
   "source": [
    "embeddings = np.vstack(embeddings)\n",
    "embeddings"
   ]
  },
  {
   "cell_type": "code",
   "execution_count": 34,
   "id": "0724dfce",
   "metadata": {},
   "outputs": [
    {
     "data": {
      "text/plain": [
       "numpy.ndarray"
      ]
     },
     "execution_count": 34,
     "metadata": {},
     "output_type": "execute_result"
    }
   ],
   "source": [
    "type(embeddings)"
   ]
  },
  {
   "cell_type": "code",
   "execution_count": 35,
   "id": "a6da4435",
   "metadata": {},
   "outputs": [],
   "source": [
    "faiss.normalize_L2(embeddings)"
   ]
  },
  {
   "cell_type": "code",
   "execution_count": null,
   "id": "b9a7193e",
   "metadata": {},
   "outputs": [],
   "source": [
    "index = faiss.IndexFlatIP(embeddings.shape[1]) # Cosine Similarity Search\n",
    "index.add(embeddings)"
   ]
  },
  {
   "cell_type": "code",
   "execution_count": 49,
   "id": "9df8c206",
   "metadata": {},
   "outputs": [],
   "source": [
    "index_path = \"index_messi.faiss\"\n",
    "meta_path = \"meta_messi.jsonl\""
   ]
  },
  {
   "cell_type": "code",
   "execution_count": 41,
   "id": "bde95ca6",
   "metadata": {},
   "outputs": [],
   "source": [
    "faiss.write_index(index, index_path)"
   ]
  },
  {
   "cell_type": "code",
   "execution_count": 50,
   "id": "2986eb67",
   "metadata": {},
   "outputs": [],
   "source": [
    "with open(meta_path, 'w') as f:\n",
    "    for i, chunk in enumerate(chunks):\n",
    "        f.write(json.dumps({\"id\": i+1, \"text\": chunk}) + \"\\n\")\n",
    "        "
   ]
  },
  {
   "cell_type": "code",
   "execution_count": 51,
   "id": "12994667",
   "metadata": {},
   "outputs": [
    {
     "data": {
      "text/plain": [
       "(array([[0.56445694, 0.5501441 , 0.4915244 ]], dtype=float32),\n",
       " array([[0, 1, 4]]))"
      ]
     },
     "execution_count": 51,
     "metadata": {},
     "output_type": "execute_result"
    }
   ],
   "source": [
    "query = \"What is Messi's Playing Style like?\"\n",
    "q = generate_embeddings(query).astype(\"float32\").reshape(1, -1)\n",
    "faiss.normalize_L2(q)\n",
    "index.search(q, 3)"
   ]
  },
  {
   "cell_type": "code",
   "execution_count": 59,
   "id": "6f948998",
   "metadata": {},
   "outputs": [
    {
     "data": {
      "text/plain": [
       "(array([[0.56445694, 0.5501441 , 0.4915244 , 0.46991688, 0.46381244,\n",
       "         0.41427535, 0.24485159]], dtype=float32),\n",
       " array([[0, 1, 4, 3, 2, 5, 6]]))"
      ]
     },
     "execution_count": 59,
     "metadata": {},
     "output_type": "execute_result"
    }
   ],
   "source": [
    "index.search(q,7)"
   ]
  },
  {
   "cell_type": "code",
   "execution_count": 60,
   "id": "154d967f",
   "metadata": {},
   "outputs": [
    {
     "data": {
      "text/plain": [
       "(array([[0.61699533, 0.55438375, 0.53807294]], dtype=float32),\n",
       " array([[5, 1, 0]]))"
      ]
     },
     "execution_count": 60,
     "metadata": {},
     "output_type": "execute_result"
    }
   ],
   "source": [
    "query = \"What is Most goals scored by Messi in a Calendar year?\"\n",
    "q = generate_embeddings(query).astype(\"float32\").reshape(1, -1)\n",
    "faiss.normalize_L2(q)\n",
    "index.search(q, 3)"
   ]
  },
  {
   "cell_type": "code",
   "execution_count": null,
   "id": "bea08f9d",
   "metadata": {},
   "outputs": [],
   "source": []
  }
 ],
 "metadata": {
  "kernelspec": {
   "display_name": "streamlitenv",
   "language": "python",
   "name": "python3"
  },
  "language_info": {
   "codemirror_mode": {
    "name": "ipython",
    "version": 3
   },
   "file_extension": ".py",
   "mimetype": "text/x-python",
   "name": "python",
   "nbconvert_exporter": "python",
   "pygments_lexer": "ipython3",
   "version": "3.10.18"
  }
 },
 "nbformat": 4,
 "nbformat_minor": 5
}
