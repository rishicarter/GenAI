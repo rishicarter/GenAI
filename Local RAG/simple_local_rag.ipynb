{
 "cells": [
  {
   "cell_type": "markdown",
   "id": "e927ec01-028c-4229-93c7-c7f5f496d2cc",
   "metadata": {},
   "source": [
    "## What is RAG!\n",
    "\n",
    "RAG stands for Retrieval Augmented Generation.\n",
    "\n",
    "The goal of RAG is to take information and pass it to an LLM so it can generate outputs based on that information.\n",
    "\n",
    "* Retrieval - Find relevant information given a query, e.g. \"What are the macronutrients and what do they do?\" -> retrives passages of text related to the macronutrients from a nutrition textbook.\n",
    "* Augmented - We want to take the relevant information and augment our input to an LLM with that relevant information.\n",
    "* Generation - Take the first two steps and pass them to an LLM for generative outputs."
   ]
  },
  {
   "cell_type": "markdown",
   "id": "3bb79a41-0cb8-4311-a72d-794a154c665d",
   "metadata": {},
   "source": [
    "## Why RAG?\n",
    "\n",
    "The main goal of RAG is to improve the general output of LLMs.\n",
    "\n",
    "1. Prevent hallucinations: LLMs are incredibly good at generating text based on the prompts but it may not be factual.\n",
    "2. Work with custom data: RAG hels LLMs to create specific responses based on specific documents."
   ]
  },
  {
   "cell_type": "markdown",
   "id": "d26dafb0-d045-44ca-9d61-cf834b868f1c",
   "metadata": {},
   "source": [
    "## What can RAG be used for?\n",
    "\n",
    "* Project SME\n",
    "* Textbook Q&A\n",
    "* Analysis Tool"
   ]
  },
  {
   "cell_type": "markdown",
   "id": "2479e4a4-bd5c-40ce-8f46-e821f00a3b67",
   "metadata": {},
   "source": [
    "## Advantages of Local RAG\n",
    "\n",
    "* Privacy\n",
    "* Speed\n",
    "* Cost\n",
    "* No Vendor Lockin - Not dependant on an company for our RAG to work."
   ]
  },
  {
   "cell_type": "code",
   "execution_count": 3,
   "id": "8b00f1bf-ad8f-4c49-b726-80f5c790133b",
   "metadata": {},
   "outputs": [
    {
     "name": "stdout",
     "output_type": "stream",
     "text": [
      "Sat Jun 15 16:14:15 2024       \n",
      "+-----------------------------------------------------------------------------------------+\n",
      "| NVIDIA-SMI 555.52.01              Driver Version: 555.99         CUDA Version: 12.5     |\n",
      "|-----------------------------------------+------------------------+----------------------+\n",
      "| GPU  Name                 Persistence-M | Bus-Id          Disp.A | Volatile Uncorr. ECC |\n",
      "| Fan  Temp   Perf          Pwr:Usage/Cap |           Memory-Usage | GPU-Util  Compute M. |\n",
      "|                                         |                        |               MIG M. |\n",
      "|=========================================+========================+======================|\n",
      "|   0  NVIDIA GeForce RTX 3080 ...    On  |   00000000:01:00.0  On |                  N/A |\n",
      "| N/A   49C    P8             19W /  150W |     118MiB /  16384MiB |      3%      Default |\n",
      "|                                         |                        |                  N/A |\n",
      "+-----------------------------------------+------------------------+----------------------+\n",
      "                                                                                         \n",
      "+-----------------------------------------------------------------------------------------+\n",
      "| Processes:                                                                              |\n",
      "|  GPU   GI   CI        PID   Type   Process name                              GPU Memory |\n",
      "|        ID   ID                                                               Usage      |\n",
      "|=========================================================================================|\n",
      "|  No running processes found                                                             |\n",
      "+-----------------------------------------------------------------------------------------+\n"
     ]
    }
   ],
   "source": [
    "!nvidia-smi"
   ]
  },
  {
   "cell_type": "markdown",
   "id": "0cbc2dd4-099e-4f21-8582-22d194db84af",
   "metadata": {},
   "source": [
    "## We will be building an ML/DL expert AI.\n",
    "\n",
    "1. Open PDF document\n",
    "2. Format the text of the PDF textbook ready for an embedding model\n",
    "3. Embed all of the chunks of text in the textbook and turn them into numerical representations which can store for later.\n",
    "4. Build retrieval sustem that uses vector search to find relevant chunk of text based on a query.\n",
    "5. Create a prompt that incorporates the retrieved pieces of text.\n",
    "6. Generate an answer to a query based on the passages of the textbook with an LLM.\n",
    "\n",
    "Stes 1-3: Document preprocessing and embedding creation.<br>\n",
    "Steps 4-6: Search and answer"
   ]
  },
  {
   "cell_type": "markdown",
   "id": "f73e9e0d-624a-4bfc-975c-927f09bb1993",
   "metadata": {},
   "source": [
    "## 1. Document preprocessing and embedding creation\n",
    "\n",
    "* PDF Document or any file which contains text.\n",
    "* Process text for embedding.\n",
    "* Embed text chunks with embedding model.\n",
    "* Save embeddings to the file for later."
   ]
  },
  {
   "cell_type": "markdown",
   "id": "534b1453-7452-4fce-a5bc-ff4ae15b0406",
   "metadata": {},
   "source": [
    "# Import PDF Document"
   ]
  },
  {
   "cell_type": "code",
   "execution_count": null,
   "id": "53fd91d2-3655-49a8-aca1-51921357f267",
   "metadata": {},
   "outputs": [],
   "source": [
    "import os \n",
    "import requests\n",
    "\n",
    "# Get PDF document path\n",
    "pdf_path = \"\"\n",
    "\n",
    "# Download PDF\n",
    "if not os.path.exists(pdf.path):\n",
    "    print(f\"[INFO] File doesnt exist, downloading...\")\n",
    "    url = \"\"\n",
    "    filename = pdf_path\n",
    "    response = request.get(url)\n",
    "    if respone.status_code == 200:\n",
    "        with open(filename, \"wb\") as file:\n",
    "            file.write(response.content)\n",
    "        print(f\"[INFO] File Downloaded!\")\n",
    "    else:\n",
    "        print(f\"[INFO] Failed to download the file!\")\n",
    "            "
   ]
  },
  {
   "cell_type": "markdown",
   "id": "3a1be7da-f586-4e8e-a0e5-de38f102e5a6",
   "metadata": {},
   "source": [
    "We have got a PDF, lets open it!"
   ]
  },
  {
   "cell_type": "code",
   "execution_count": 3,
   "id": "79524ddb-1892-479c-b5ca-c9d35c996a71",
   "metadata": {},
   "outputs": [],
   "source": [
    "import pymupdf as fitz\n",
    "from tqdm.auto import tqdm\n",
    "\n",
    "def text_formatter(text: str) -> str:\n",
    "    \"\"\"performs minor formatting on text.\"\"\"\n",
    "    cleaned_text = text.replace(\"\\n\", \" \").strip()\n",
    "    return cleaned_text\n",
    "\n",
    "def open_and_read_pdf(pdf_path: str) -> list[dict]:\n",
    "    doc = fitz.open(pdf_path)\n",
    "    pages_and_texts = []\n",
    "    for page_number, page in tqdm(enumerate(doc)):\n",
    "        text = page.get_text()\n",
    "        text = text_formatter(text=text)\n",
    "        pages_and_texts.append({\"page_number\": page_number - 14,\n",
    "                                \"\n",
    "                               })\n",
    "        "
   ]
  },
  {
   "cell_type": "code",
   "execution_count": null,
   "id": "dd680dec-a09f-4444-bf31-7b3a28e637b7",
   "metadata": {},
   "outputs": [],
   "source": []
  },
  {
   "cell_type": "code",
   "execution_count": null,
   "id": "25ee664b-7ded-473e-9c09-a2ec64a90e24",
   "metadata": {},
   "outputs": [],
   "source": []
  },
  {
   "cell_type": "code",
   "execution_count": null,
   "id": "57b0301b-f1ef-4aa7-8dd7-dda0977683bc",
   "metadata": {},
   "outputs": [],
   "source": []
  }
 ],
 "metadata": {
  "kernelspec": {
   "display_name": "Python 3 (ipykernel)",
   "language": "python",
   "name": "python3"
  },
  "language_info": {
   "codemirror_mode": {
    "name": "ipython",
    "version": 3
   },
   "file_extension": ".py",
   "mimetype": "text/x-python",
   "name": "python",
   "nbconvert_exporter": "python",
   "pygments_lexer": "ipython3",
   "version": "3.10.12"
  }
 },
 "nbformat": 4,
 "nbformat_minor": 5
}
