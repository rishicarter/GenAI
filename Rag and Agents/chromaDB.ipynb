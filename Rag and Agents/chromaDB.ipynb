{
 "cells": [
  {
   "cell_type": "markdown",
   "id": "e6afafeb-235c-47b0-9b26-5960af1a75c1",
   "metadata": {},
   "source": [
    "# Imports and constants"
   ]
  },
  {
   "cell_type": "code",
   "execution_count": 1,
   "id": "b8713a62-5712-490d-a1a1-35734a93b4f1",
   "metadata": {},
   "outputs": [],
   "source": [
    "from getpass import getpass\n",
    "import os\n",
    "\n",
    "from llama_index.core import SimpleDirectoryReader, VectorStoreIndex\n",
    "from llama_index.embeddings.fastembed import FastEmbedEmbedding\n",
    "from llama_index.llms.huggingface_api import HuggingFaceInferenceAPI\n",
    "from llama_index.core import Settings, StorageContext\n",
    "from llama_index.vector_stores.chroma import ChromaVectorStore\n",
    "import chromadb\n",
    "\n",
    "from IPython.display import display, Markdown"
   ]
  },
  {
   "cell_type": "code",
   "execution_count": null,
   "id": "471f9998-b283-459b-9c64-9d6c57cec00e",
   "metadata": {},
   "outputs": [
    {
     "name": "stdout",
     "output_type": "stream",
     "text": [
      " ········\n"
     ]
    }
   ],
   "source": [
    "HF_TOKEN = getpass()\n",
    "os.environ['HUGGINGFACEHUB_API_TOKEN'] = HF_TOKEN\n",
    "MODEL_NAME = \"HuggingFaceH4/zephyr-7b-beta\""
   ]
  },
  {
   "cell_type": "code",
   "execution_count": 4,
   "id": "fa293ec6-1483-434c-a480-816a1ac06dd6",
   "metadata": {},
   "outputs": [
    {
     "name": "stderr",
     "output_type": "stream",
     "text": [
      "/home/rishicarter/miniforge3/lib/python3.10/site-packages/pypdf/_crypt_providers/_cryptography.py:32: CryptographyDeprecationWarning: ARC4 has been moved to cryptography.hazmat.decrepit.ciphers.algorithms.ARC4 and will be removed from this module in 48.0.0.\n",
      "  from cryptography.hazmat.primitives.ciphers.algorithms import AES, ARC4\n"
     ]
    }
   ],
   "source": [
    "docs = SimpleDirectoryReader(\"data\").load_data()"
   ]
  },
  {
   "cell_type": "code",
   "execution_count": 5,
   "id": "7cb176f5-dafd-4a24-914b-a674d03b9b44",
   "metadata": {},
   "outputs": [
    {
     "data": {
      "application/vnd.jupyter.widget-view+json": {
       "model_id": "1354211409b94bd499b1ffcb79e792e5",
       "version_major": 2,
       "version_minor": 0
      },
      "text/plain": [
       "Fetching 5 files:   0%|          | 0/5 [00:00<?, ?it/s]"
      ]
     },
     "metadata": {},
     "output_type": "display_data"
    },
    {
     "data": {
      "application/vnd.jupyter.widget-view+json": {
       "model_id": "7f4889192ac4438cae4a9cb027e793f1",
       "version_major": 2,
       "version_minor": 0
      },
      "text/plain": [
       "special_tokens_map.json:   0%|          | 0.00/695 [00:00<?, ?B/s]"
      ]
     },
     "metadata": {},
     "output_type": "display_data"
    },
    {
     "data": {
      "application/vnd.jupyter.widget-view+json": {
       "model_id": "b09b5d6317564016b5a279168437cf4d",
       "version_major": 2,
       "version_minor": 0
      },
      "text/plain": [
       "config.json:   0%|          | 0.00/706 [00:00<?, ?B/s]"
      ]
     },
     "metadata": {},
     "output_type": "display_data"
    },
    {
     "data": {
      "application/vnd.jupyter.widget-view+json": {
       "model_id": "e92577d18e83432e8b53484f059ac644",
       "version_major": 2,
       "version_minor": 0
      },
      "text/plain": [
       "model_optimized.onnx:   0%|          | 0.00/66.5M [00:00<?, ?B/s]"
      ]
     },
     "metadata": {},
     "output_type": "display_data"
    },
    {
     "data": {
      "application/vnd.jupyter.widget-view+json": {
       "model_id": "66b6e33a815c4cc7a8f5a8b2d984c1d2",
       "version_major": 2,
       "version_minor": 0
      },
      "text/plain": [
       "tokenizer.json:   0%|          | 0.00/711k [00:00<?, ?B/s]"
      ]
     },
     "metadata": {},
     "output_type": "display_data"
    },
    {
     "data": {
      "application/vnd.jupyter.widget-view+json": {
       "model_id": "054f17c51dda4594a0b3f855c7d32390",
       "version_major": 2,
       "version_minor": 0
      },
      "text/plain": [
       "tokenizer_config.json:   0%|          | 0.00/1.24k [00:00<?, ?B/s]"
      ]
     },
     "metadata": {},
     "output_type": "display_data"
    }
   ],
   "source": [
    "embed_model = FastEmbedEmbedding()"
   ]
  },
  {
   "cell_type": "code",
   "execution_count": 6,
   "id": "c3c668ae-b215-4899-93e0-0cf1628c98ca",
   "metadata": {},
   "outputs": [],
   "source": [
    "llm = HuggingFaceInferenceAPI(model_name=MODEL_NAME, token=HF_TOKEN)"
   ]
  },
  {
   "cell_type": "code",
   "execution_count": 7,
   "id": "3e44f805-d0e0-44c2-9c7b-26717c4394a9",
   "metadata": {},
   "outputs": [],
   "source": [
    "Settings.llm = llm\n",
    "Settings.embed_model = embed_model"
   ]
  },
  {
   "cell_type": "markdown",
   "id": "6663f919-503b-42a4-8354-0a792e937d25",
   "metadata": {},
   "source": [
    "# Index your documents"
   ]
  },
  {
   "cell_type": "code",
   "execution_count": 8,
   "id": "38e6e602-e9a6-4e6e-83ea-00b0ed926b6a",
   "metadata": {},
   "outputs": [],
   "source": [
    "db = chromadb.PersistentClient(path=\"./chroma_db\")\n",
    "chroma_collection = db.get_or_create_collection(\"quickstart\")\n",
    "vector_store = ChromaVectorStore(chroma_collection)\n",
    "storage_context = StorageContext.from_defaults(vector_store=vector_store)\n",
    "\n",
    "index = VectorStoreIndex.from_documents(documents=docs, storage_context=storage_context, embed_model=embed_model)"
   ]
  },
  {
   "cell_type": "markdown",
   "id": "1a2859bb-ba8b-4413-b766-b9b69a0328a4",
   "metadata": {},
   "source": [
    "# Load index"
   ]
  },
  {
   "cell_type": "code",
   "execution_count": 9,
   "id": "c569fd66-f068-4e86-bdc1-da14fe06abef",
   "metadata": {},
   "outputs": [],
   "source": [
    "mydb = chromadb.PersistentClient(\"./chroma_db\")\n",
    "chroma_collection = mydb.get_or_create_collection(\"quickstart\")\n",
    "vector_store = ChromaVectorStore(chroma_collection)\n",
    "index = VectorStoreIndex.from_vector_store(vector_store=vector_store, embed_model=embed_model)"
   ]
  },
  {
   "cell_type": "code",
   "execution_count": 10,
   "id": "c71b7edc-4494-4439-b9ba-4ebe0385a1e7",
   "metadata": {},
   "outputs": [],
   "source": [
    "query_engine = index.as_query_engine()\n",
    "resp = query_engine.query(\"What are the types of football data normally avialable?\")"
   ]
  },
  {
   "cell_type": "code",
   "execution_count": 11,
   "id": "2852c78e-4f7c-41b4-89b6-5231d586fdbc",
   "metadata": {},
   "outputs": [
    {
     "data": {
      "text/plain": [
       "\"\\n\\nThe context information provided mentions the availability of football data for tracking and analyzing football matches and players. However, the specific types of football data are not explicitly mentioned. Based on the context, it can be inferred that the football data may include statistics such as the number of goals scored, assists, passes, shots on target, possession, and fouls committed by individual players and teams during a match. It may also include information about the location and timing of these events, as well as details about the teams' formations, lineups, and tactics.\""
      ]
     },
     "execution_count": 11,
     "metadata": {},
     "output_type": "execute_result"
    }
   ],
   "source": [
    "resp.response"
   ]
  },
  {
   "cell_type": "markdown",
   "id": "ad7ea98e-2c08-47b9-a0d1-16c119d5fcda",
   "metadata": {},
   "source": [
    "# Hybrid Search\n",
    "text retrieval + vector similarity search"
   ]
  },
  {
   "cell_type": "code",
   "execution_count": 12,
   "id": "b80adeeb-35d1-4d1a-926f-a0bc593a03f1",
   "metadata": {},
   "outputs": [],
   "source": [
    "query_engine = index.as_query_engine(similarity_top_k=2, sparse_top_k=12, vector_store_query_mode=\"hybrid\")"
   ]
  },
  {
   "cell_type": "code",
   "execution_count": 13,
   "id": "856639a1-2cc1-41dc-86c7-6c7e07f3f74f",
   "metadata": {},
   "outputs": [
    {
     "data": {
      "text/markdown": [
       "\n",
       "\n",
       "According to the results presented in the text, Paulo Dybala is closely similar to Messi in terms of their playing style. This claim is supported by the fact that Dybala was ranked as the fourth most similar player to Messi based on the Player2Vec vector analysis. This analysis compares the playing styles of all the players in the dataset, and Dybala's style was found to be most similar to Messi's."
      ],
      "text/plain": [
       "<IPython.core.display.Markdown object>"
      ]
     },
     "metadata": {},
     "output_type": "display_data"
    }
   ],
   "source": [
    "resp = query_engine.query(\"Which player is closely similar to Messi and why?\")\n",
    "\n",
    "display(Markdown(str(resp)))"
   ]
  },
  {
   "cell_type": "code",
   "execution_count": 14,
   "id": "df3cd1f2-bfae-4446-ac8b-b9e3c83911e3",
   "metadata": {},
   "outputs": [
    {
     "data": {
      "text/markdown": [
       "\n",
       "\n",
       "Fabinho played a crucial role in Liverpool's success during the 2018/19 season. He joined Liverpool in 2018 after the departure of Emre Can, and since then, Liverpool was unbeaten in 21 games of the first 2 ½ matches played by Fabinho. His performance as a holding midfielder was exceptional, and he was considered the best holding midfielder in the English Premier League for that season. Fabinho's presence in the team helped Liverpool maintain their high-pressing, counter-attacking style of play, which was a crucial factor in their success."
      ],
      "text/plain": [
       "<IPython.core.display.Markdown object>"
      ]
     },
     "metadata": {},
     "output_type": "display_data"
    }
   ],
   "source": [
    "resp = query_engine.query(\"Who helped in Liverpool's success and how?\")\n",
    "\n",
    "display(Markdown(str(resp)))"
   ]
  },
  {
   "cell_type": "code",
   "execution_count": 15,
   "id": "360948b5-be76-497a-b116-1baecf093113",
   "metadata": {},
   "outputs": [
    {
     "data": {
      "text/markdown": [
       "\n",
       "\n",
       "The player2vec vector can help in analysis by capturing both playing styles of teams and players, but it has a downside in choosing the optimum grid resolution. The vector is formed by overlaying a grid over the football field and counting the number of actions performed in each grid cell. However, a coarse grid may miss key variations between locations, and a finer-grained grid substantially increases data sparsity because then fewer actions happen in a single grid cell. The high-dimensional nature of the vector prevents immediate interpretation, making it challenging to separate certain traits from the generated vector. While player2vec alone may not detect a player's shot actions, it can still help in analysis by capturing both playing styles of teams and players, but more data and research are required to statistically prove its robustness. The vector's length of 32 dimensions makes it difficult for straightforward observation or comparison, necessitating the intervention of sports scientists to link the outcomes of real performance and the practical influence on players' play styles."
      ],
      "text/plain": [
       "<IPython.core.display.Markdown object>"
      ]
     },
     "metadata": {},
     "output_type": "display_data"
    }
   ],
   "source": [
    "resp = query_engine.query(\"How can player2vec vector help in analysis?\")\n",
    "\n",
    "display(Markdown(str(resp)))"
   ]
  },
  {
   "cell_type": "code",
   "execution_count": 16,
   "id": "67117c1a-dda9-40bc-8e56-adf5ef04fc37",
   "metadata": {},
   "outputs": [
    {
     "data": {
      "text/markdown": [
       "\n",
       "\n",
       "This thesis explores the application of reinforcement learning algorithms in football team selection and player replacement strategies. The study aims to address the challenges of team selection and player replacement in football, which are complex and multifaceted problems. The proposed approach involves the development of a decision-making framework that utilizes historical match data and machine learning techniques to predict the expected outcome of a match based on the selected team and the replacement of injured or suspended players. The framework is evaluated using real-world match data from the English Premier League, and the results demonstrate the potential of reinforcement learning algorithms in improving team selection and player replacement strategies in football. The study also highlights the importance of contextual information, such as team form, player fitness, and opposition analysis, in decision-making processes. Overall, this thesis contributes to the growing body of research in sports analytics and provides insights into the application of reinforcement learning algorithms in football team selection and player replacement strategies."
      ],
      "text/plain": [
       "<IPython.core.display.Markdown object>"
      ]
     },
     "metadata": {},
     "output_type": "display_data"
    }
   ],
   "source": [
    "resp = query_engine.query(\"The context you have right now is my Masters thesis. I am applying to a university for a PHD in sports analytics in football. Using the context, give an abstract of the thesis\")\n",
    "\n",
    "display(Markdown(str(resp)))"
   ]
  },
  {
   "cell_type": "code",
   "execution_count": null,
   "id": "6a1c1ff0-e780-4327-b6b8-3bf8ffc25fed",
   "metadata": {},
   "outputs": [],
   "source": []
  },
  {
   "cell_type": "code",
   "execution_count": null,
   "id": "7534246c-557f-43d2-9640-ca7173e06e4d",
   "metadata": {},
   "outputs": [],
   "source": []
  },
  {
   "cell_type": "code",
   "execution_count": null,
   "id": "559bc80a-42b0-4c7a-86d7-8d1f1e861ca6",
   "metadata": {},
   "outputs": [],
   "source": []
  },
  {
   "cell_type": "code",
   "execution_count": null,
   "id": "c9b31dff-954b-457c-949f-d9f0cad7f249",
   "metadata": {},
   "outputs": [],
   "source": []
  },
  {
   "cell_type": "code",
   "execution_count": null,
   "id": "a10c057b-e298-441f-84fb-b1c9952eac6b",
   "metadata": {},
   "outputs": [],
   "source": []
  }
 ],
 "metadata": {
  "kernelspec": {
   "display_name": "Python 3 (ipykernel)",
   "language": "python",
   "name": "python3"
  },
  "language_info": {
   "codemirror_mode": {
    "name": "ipython",
    "version": 3
   },
   "file_extension": ".py",
   "mimetype": "text/x-python",
   "name": "python",
   "nbconvert_exporter": "python",
   "pygments_lexer": "ipython3",
   "version": "3.10.14"
  }
 },
 "nbformat": 4,
 "nbformat_minor": 5
}
