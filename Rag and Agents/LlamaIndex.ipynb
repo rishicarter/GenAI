{
 "cells": [
  {
   "cell_type": "code",
   "execution_count": 13,
   "id": "22ddb28e-cfb2-4d7a-9e3a-8f6325234871",
   "metadata": {},
   "outputs": [],
   "source": [
    "#!pip -q install llama-index langchain llama-index-readers-web llama-index-embeddings-langchain llama-index-llms-huggingface langchain-community llama-index-llms-huggingface-api"
   ]
  },
  {
   "cell_type": "markdown",
   "id": "887f98cd-19e7-4eaa-970e-b5d4f599b28c",
   "metadata": {},
   "source": [
    "# Imports and constants"
   ]
  },
  {
   "cell_type": "code",
   "execution_count": 29,
   "id": "19227e35-280c-4b21-bdd9-d74b5fbba20a",
   "metadata": {},
   "outputs": [],
   "source": [
    "import os\n",
    "from getpass import getpass\n",
    "\n",
    "from llama_index.core import Settings\n",
    "# from llama_index.llms.huggingface import HuggingFaceInferenceAPI\n",
    "from llama_index.llms.huggingface_api import HuggingFaceInferenceAPI\n",
    "from langchain.embeddings.huggingface import HuggingFaceInferenceAPIEmbeddings\n",
    "from llama_index.embeddings.langchain import LangchainEmbedding\n",
    "from llama_index.core import SimpleDirectoryReader, VectorStoreIndex, load_index_from_storage, get_response_synthesizer\n",
    "from llama_index.core.query_engine import RetrieverQueryEngine\n",
    "from llama_index.core.retrievers import VectorIndexRetriever\n",
    "from llama_index.core.node_parser import SimpleNodeParser\n",
    "from llama_index.core.storage import StorageContext"
   ]
  },
  {
   "cell_type": "code",
   "execution_count": 15,
   "id": "a2a0ff68-2bf5-42d5-bdf9-a61cf0909ba3",
   "metadata": {},
   "outputs": [],
   "source": [
    "# HF_TOKEN = getpass()\n",
    "os.environ['HUGGINGFACEHUB_API_TOKEN'] = HF_TOKEN\n",
    "PERSIST_DIR = './storage'\n",
    "MODEL_NAME = \"HuggingFaceH4/zephyr-7b-beta\"\n",
    "EMBED_MODEL = \"thenlper/gte-large\""
   ]
  },
  {
   "cell_type": "markdown",
   "id": "6e6c8d28-752f-4aff-a901-76c0bda20a91",
   "metadata": {},
   "source": [
    "# Storing Context\n",
    "* defining the llm end embedding model\n",
    "* storing the context using Indexing\n",
    "* retrieving the context from the storage context\n",
    "\n",
    "## Define the:\n",
    "> Persist Directory - The persist directory in LlamaIndex is the location on disk where the indexed data and metadata are stored to avoid the time and cost of re-indexing the data.\n",
    "\n",
    ">LLM Model - LLM Model uses the query and the retrieved documents to generate a response\n",
    "\n",
    ">Embedding Model - Embedding Model generates vector embeddings which are to be stored in a vector store."
   ]
  },
  {
   "cell_type": "code",
   "execution_count": 16,
   "id": "3916a7a5-6a7e-4d32-96c3-a0d59fb36689",
   "metadata": {},
   "outputs": [],
   "source": [
    "Settings.llm = HuggingFaceInferenceAPI(model_name=MODEL_NAME,\n",
    "                                      token=HF_TOKEN)\n",
    "Settings.embed_model = LangchainEmbedding(HuggingFaceInferenceAPIEmbeddings(model_name=EMBED_MODEL,\n",
    "                                                                            api_key=HF_TOKEN))"
   ]
  },
  {
   "cell_type": "code",
   "execution_count": 26,
   "id": "61eb0f1b-d720-43d0-b850-556a727b0c89",
   "metadata": {
    "scrolled": true
   },
   "outputs": [],
   "source": [
    "if not os.path.exists(PERSIST_DIR):\n",
    "    documents = SimpleDirectoryReader(input_dir=\"data\").load_data()\n",
    "    parser = SimpleNodeParser()\n",
    "    nodes = parser.get_nodes_from_documents(documents)\n",
    "\n",
    "    storage_context = StorageContext.from_defaults()\n",
    "    index = VectorStoreIndex(nodes, storage_context=storage_context)\n",
    "    index.storage_context.persist(persist_dir=PERSIST_DIR)\n",
    "else:\n",
    "    storage_context = StorageContext.from_defaults(persist_dir=PERSIST_DIR)\n",
    "    index = load_index_from_storage(storage_context)"
   ]
  },
  {
   "cell_type": "code",
   "execution_count": 30,
   "id": "e7207562-72ab-4c30-b630-1a6de77b7cf9",
   "metadata": {},
   "outputs": [
    {
     "data": {
      "text/plain": [
       "Response(response=\"\\n\\nThe example of f1-score from the book is given in the context of evaluating the performance of the proposed solution for player similarity analysis using the proposed CAE model. The authors compare the f1-score of the proposed solution with the f1-score of the previous study, which is 0.94 for the proposed solution and 0.92 for the previous study. This indicates that the proposed solution outperforms the previous study in terms of f1-score, which is a measure of the accuracy and precision of the model's predictions. The authors also provide a table (Table 7) that summarizes the top-k results and mean reciprocal rank (MRR) comparison of the proposed solution to the previous study.\", source_nodes=[NodeWithScore(node=TextNode(id_='ec5b3df6-5dd3-4793-a195-b0a1408e1a7b', embedding=None, metadata={'page_label': '8', 'file_name': 'RishiAluri_Dissertation.pdf', 'file_path': '/home/rishicarter/git/GenAI/Rag and Agents/data/RishiAluri_Dissertation.pdf', 'file_type': 'application/pdf', 'file_size': 2677386, 'creation_date': '2024-08-10', 'last_modified_date': '2024-08-10'}, excluded_embed_metadata_keys=['file_name', 'file_type', 'file_size', 'creation_date', 'last_modified_date', 'last_accessed_date'], excluded_llm_metadata_keys=['file_name', 'file_type', 'file_size', 'creation_date', 'last_modified_date', 'last_accessed_date'], relationships={<NodeRelationship.SOURCE: '1'>: RelatedNodeInfo(node_id='5817dca1-4a3f-4aa3-9132-8415ecf50040', node_type=<ObjectType.DOCUMENT: '4'>, metadata={'page_label': '8', 'file_name': 'RishiAluri_Dissertation.pdf', 'file_path': '/home/rishicarter/git/GenAI/Rag and Agents/data/RishiAluri_Dissertation.pdf', 'file_type': 'application/pdf', 'file_size': 2677386, 'creation_date': '2024-08-10', 'last_modified_date': '2024-08-10'}, hash='08f783aba274abb9a9313156cae156c4c5f3bf107194e100f4eb255ea8560117')}, text=\"8 \\nFigure 21 Comparison of f ive best performing models that generate the Player2Vec player vector. \\nThe models were tested for player retrieval task using Manhattan distance. 'MODEL27_CAE2' \\n(green) performs better than the rest of the models (dashed lines).  ................................ ..............  37 \\nFigure 22 Comparison of five best performing models that generate the Player2Vec player vector. \\nThe models were tested for player retrieval task using Euclidean distance. 'MODEL27_CAE2' \\n(green) performs better than the rest of the models (dashed lines).  ................................ ..............  38 \\nFigure 23 (a) Shows the comparison of the ten action descriptors of Olivier Giroud and Sandro \\nWagner. (b) shows the comparison of the ten a ction descriptors of Olivier Giroud and Alexandre \\nLacazette. The ‘pass -forward’ and ‘pass -short’ attributes show the closer similarity of Lacazette to \\nGiroud than Wagner, based on the tactics of Arsenal FC. ................................ .............................  43 \\nFigure 24 Fabinho lifting the Champions League Trophy after playing a crucial role for Liverpool \\nFC d uring the 2018/19 season campaign[33].  ................................ ................................ ..............  44 \\nFigure 25 Comparison of the ten action descriptors of Emre Can and Fabinho.  ..........................  45 \\nFigure 26  Fabinho's passing sonar for Liverpool in the 2019/20 Premier League season[33].  .... 46 \\nList of Figures  \\n \\nTable 1 Wyscout Open Access Dataset  ................................ ................................ .........................  15 \\nTable 2 SPADL 12 attributes  ................................ ................................ ................................ .........  17 \\nTable 3 Actions leading up to the goal by Lionel Messi.  ................................ ..............................  18 \\nTable 4 Selecting relevant action types: Pass, Cross, Dribble and Shot  ................................ ....... 20 \\nTable 5 Model hyperparameters subject to experimentation.  ................................ .......................  31 \\nTable 6 Summary of Wyscout soccer ball event data  ................................ ................................ ... 35 \\nTable 7 Top -k results and mean reciprocal rank (MRR)  comparison of the proposed solution to the \\nprevious study.  ................................ ................................ ................................ ..............................  36 \\nTable 8 Performance comparison of the five best CAE models  ................................ ...................  38 \\nTable 9 Player Similarity Analysis of Messi and Dybala.  ................................ ............................  40 \\nTable 10 Player Similarity Analysis of Modric and Fabregas.  ................................ .....................  40 \\nTable 11 Player  Similarity Analysis of Kante and Gueye.  ................................ ............................  40 \\nTable 12 Player Similarity Analysis of Ronaldo and Son.  ................................ ............................  41 \\nTable 13 Player Similarity Analysis of Ramos and Laporte.  ................................ ........................  41 \\nTable 14 The names of the top 5 most similar players to the striker Olivier Giroud and the \\ndifference in the similarity in numbers.  ................................ ................................ ........................  42\", mimetype='text/plain', start_char_idx=1, end_char_idx=3483, text_template='{metadata_str}\\n\\n{content}', metadata_template='{key}: {value}', metadata_seperator='\\n'), score=0.8375897557051035), NodeWithScore(node=TextNode(id_='faa5c93f-aa88-47c3-89bb-1fe23f04086c', embedding=None, metadata={'page_label': '50', 'file_name': 'RishiAluri_Dissertation.pdf', 'file_path': '/home/rishicarter/git/GenAI/Rag and Agents/data/RishiAluri_Dissertation.pdf', 'file_type': 'application/pdf', 'file_size': 2677386, 'creation_date': '2024-08-10', 'last_modified_date': '2024-08-10'}, excluded_embed_metadata_keys=['file_name', 'file_type', 'file_size', 'creation_date', 'last_modified_date', 'last_accessed_date'], excluded_llm_metadata_keys=['file_name', 'file_type', 'file_size', 'creation_date', 'last_modified_date', 'last_accessed_date'], relationships={<NodeRelationship.SOURCE: '1'>: RelatedNodeInfo(node_id='28de81b2-9f27-4b46-9ab2-295828c2189b', node_type=<ObjectType.DOCUMENT: '4'>, metadata={'page_label': '50', 'file_name': 'RishiAluri_Dissertation.pdf', 'file_path': '/home/rishicarter/git/GenAI/Rag and Agents/data/RishiAluri_Dissertation.pdf', 'file_type': 'application/pdf', 'file_size': 2677386, 'creation_date': '2024-08-10', 'last_modified_date': '2024-08-10'}, hash='1313eb4bbf7e3c85676b8c901210b84591696e31ade6de5df4c2697a8eaa67a6')}, text='50 \\nIX. References  \\n[1] B. SPORT. \"BBC SPORT | Football | Laws & Equipment | Pitch dimensions.\" \\nhttp://news.bbc.co.uk/sport1/hi/football/rules_and_equipment/4200666.stm  (accessed \\n10/08/2022.  \\n[2] H. Eggels, R. van Elk, and M. Pechenizkiy, \"Expected goals in soccer: Explaining match \\nresults using predictive analytics,\" in The machine learning and data mining for sports \\nanalytics workshop , 2016, vol. 16.  \\n[3] T. Decroos and J. Davis, \"Player vectors: Characterizing soccer players’ playing style from \\nmatch event streams ,\" in Joint European conference on machine learning and knowledge \\ndiscovery in databases , 2019: Springer, pp. 569 -584.  \\n[4] T. Decroos, J. Van Haaren, V . Dzyuba, and J. Davis, \"STARSS: a spatio -temporal action \\nrating system for soccer,\" in Machine Learning  and Data Mining for Sports Analytics \\nECML/PKDD 2017 workshop , 2017, vol. 1971: Springer, pp. 11 -20.  \\n[5] StatsBomb. https://statsbomb.com/  (accessed.  \\n[6] O. Sport. https://www.statsperform.com/opta/  (accessed.  \\n[7] Wyscout. https://wyscout.com/  (accessed.  \\n[8] L. Pappalardo  et al. , \"A public data set of spatio -temporal match events in soccer \\ncompetitions,\" Scientific data, vol. 6, no. 1, pp. 1 -15, 2019.  \\n[9] W. P. Coordinates. \"Pitch coordinates.\" \\nhttps://datagloss ary.wyscout.com/pitch_coordinates/  (accessed.  \\n[10] T. Decroos, L. Bransen, J. Van Haaren, and J. Davis, \"Actions speak louder than goals: \\nValuing player actions in soccer,\" in Proceedings of the 25th ACM SIGKDD international \\nconference on knowledge discove ry & data mining , 2019, pp. 1851 -1861.  \\n[11] T. Decroos and J. Davis, \"Valuing on -the-ball actions in soccer: a critical comparison of \\nXT and V AEP,\" in Proceedings of the AAAI -20 Workshop on Artifical Intelligence in Team \\nSports , 2020: AI in Team Sports Or ganising Committee, pp. 1 -8.  \\n[12] Socceraction. \"SPADL Pitch Coordinates.\" \\nhttps://socceraction.readthedocs.io/en/latest/documentation/SPADL.html  (accessed.  \\n[13] M. Maggipinto, C. Masiero, A. Beghi, and G. A. Susto, \"A convolutional autoencoder \\napproach f or feature extraction in virtual metrology,\" Procedia Manufacturing, vol. 17, pp. \\n126-133, 2018.  \\n[14] S. Saikia. \"Building a Convolutional Autoencoder with Keras using Conv2DTranspose.\" \\nhttps://medium.com/analytics -vidhya/building -a-convolutional -autoencod er-using -keras -\\nusing -conv2dtranspose -ca403c8d144e  (accessed 24/08/2022.  \\n[15] F. Chollet. \"Building Autoencoders in Keras.\" https://blog.keras.io/building -autoencoders -\\nin-keras.html  (accessed.  \\n[16] D. D. Lee and H. S. Seung, \"Learning the parts of objects b y non -negative matrix \\nfactorization,\" Nature, vol. 401, no. 6755, pp. 788 -791, 1999.  \\n[17] R. Winastwan. \"Autoencoders in Practice: Dimensionality Reduction and Image \\nDenoising.\" https://towardsdatascience.com/autoencoders -in-practice -dimensionality -\\nreducti on-and-image -denoising -ed9b9201e7e1  (accessed 13/08/2022.  \\n[18] K. Center. \"Binary crossentropy.\" https://peltarion.com/knowledge -center/modeling -\\nview/build -an-ai-model/loss -functions/binary -crossentropy  (accessed 29/08/2022.', mimetype='text/plain', start_char_idx=1, end_char_idx=3117, text_template='{metadata_str}\\n\\n{content}', metadata_template='{key}: {value}', metadata_seperator='\\n'), score=0.8352777925359682)], metadata={'ec5b3df6-5dd3-4793-a195-b0a1408e1a7b': {'page_label': '8', 'file_name': 'RishiAluri_Dissertation.pdf', 'file_path': '/home/rishicarter/git/GenAI/Rag and Agents/data/RishiAluri_Dissertation.pdf', 'file_type': 'application/pdf', 'file_size': 2677386, 'creation_date': '2024-08-10', 'last_modified_date': '2024-08-10'}, 'faa5c93f-aa88-47c3-89bb-1fe23f04086c': {'page_label': '50', 'file_name': 'RishiAluri_Dissertation.pdf', 'file_path': '/home/rishicarter/git/GenAI/Rag and Agents/data/RishiAluri_Dissertation.pdf', 'file_type': 'application/pdf', 'file_size': 2677386, 'creation_date': '2024-08-10', 'last_modified_date': '2024-08-10'}})"
      ]
     },
     "execution_count": 30,
     "metadata": {},
     "output_type": "execute_result"
    }
   ],
   "source": [
    "query_engine = index.as_query_engine()\n",
    "query_engine.query(\"What is the example of f1-score from the book?\")"
   ]
  },
  {
   "cell_type": "code",
   "execution_count": 31,
   "id": "b43a6127-611b-4573-8e2c-64756ca24e03",
   "metadata": {},
   "outputs": [],
   "source": [
    "response_synthesizer = get_response_synthesizer()\n",
    "vector_retriever = VectorIndexRetriever(index=index, similarity_top_k=2)"
   ]
  },
  {
   "cell_type": "code",
   "execution_count": 32,
   "id": "764dd5e9-c542-4699-9d2b-53706515a593",
   "metadata": {},
   "outputs": [],
   "source": [
    "vector_query_engine = RetrieverQueryEngine(retriever=vector_retriever,\n",
    "                                          response_synthesizer=response_synthesizer)"
   ]
  },
  {
   "cell_type": "code",
   "execution_count": 33,
   "id": "ccb073de-03f1-472a-8a1e-97b28ee3b113",
   "metadata": {},
   "outputs": [
    {
     "name": "stdout",
     "output_type": "stream",
     "text": [
      "\n",
      "\n",
      "The example of f1-score from the book is given in the context of evaluating the performance of the proposed solution for player similarity analysis using the proposed CAE model. The authors compare the f1-score of the proposed solution with the f1-score of the previous study, which is 0.94 for the proposed solution and 0.92 for the previous study. This indicates that the proposed solution outperforms the previous study in terms of f1-score, which is a measure of the accuracy and precision of the model's predictions. The authors also provide a table (Table 7) that summarizes the top-k results and mean reciprocal rank (MRR) comparison of the proposed solution to the previous study.\n"
     ]
    }
   ],
   "source": [
    "print(vector_query_engine.query(\"What is the example of f1-score from the book?\"))"
   ]
  },
  {
   "cell_type": "code",
   "execution_count": null,
   "id": "88d493ee-b1c2-4545-85f2-cc161432267d",
   "metadata": {},
   "outputs": [],
   "source": []
  },
  {
   "cell_type": "code",
   "execution_count": null,
   "id": "5259f86e-cbcf-421e-b414-d6af409ad48f",
   "metadata": {},
   "outputs": [],
   "source": []
  }
 ],
 "metadata": {
  "kernelspec": {
   "display_name": "Python 3 (ipykernel)",
   "language": "python",
   "name": "python3"
  },
  "language_info": {
   "codemirror_mode": {
    "name": "ipython",
    "version": 3
   },
   "file_extension": ".py",
   "mimetype": "text/x-python",
   "name": "python",
   "nbconvert_exporter": "python",
   "pygments_lexer": "ipython3",
   "version": "3.10.14"
  }
 },
 "nbformat": 4,
 "nbformat_minor": 5
}
