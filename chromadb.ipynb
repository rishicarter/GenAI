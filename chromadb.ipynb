{
 "cells": [
  {
   "cell_type": "code",
   "execution_count": 14,
   "id": "723fadc2",
   "metadata": {},
   "outputs": [],
   "source": [
    "import chromadb"
   ]
  },
  {
   "cell_type": "code",
   "execution_count": 15,
   "id": "984620e8",
   "metadata": {},
   "outputs": [
    {
     "name": "stderr",
     "output_type": "stream",
     "text": [
      "Failed to send telemetry event ClientStartEvent: capture() takes 1 positional argument but 3 were given\n"
     ]
    }
   ],
   "source": [
    "client = chromadb.Client()"
   ]
  },
  {
   "cell_type": "code",
   "execution_count": 16,
   "id": "7112659f",
   "metadata": {},
   "outputs": [],
   "source": [
    "texts = [\n",
    "    \"Sudhanshu Kumar was born in Jamshedpur, Jharkhand, India, to a modest family.\",\n",
    "    \"His early life was marked by financial hardship and limited resources.\",\n",
    "    \"He believed education could transform his life and pursued it relentlessly.\",\n",
    "    \"Sudhanshu earned a Computer Science and Engineering degree.\",\n",
    "    \"He worked at Wipro, Deloitte, Verizon Labs, and Ernst & Young.\",\n",
    "    \"He gained expertise in SAP WebDynpro, Fiori UI5 HANA, Java, Big Data, and Data Analytics.\",\n",
    "    \"Sudhanshu remained committed to making education accessible for everyone.\",\n",
    "    \"His teaching empowered countless students to build their careers.\",\n",
    "    \"Many students credit him with changing their lives through affordable learning.\",\n",
    "    \"His journey is a testament to triumph over adversity and the power of knowledge.\"\n",
    "]"
   ]
  },
  {
   "cell_type": "code",
   "execution_count": null,
   "id": "215055cb",
   "metadata": {},
   "outputs": [],
   "source": [
    "\n",
    "import requests\n",
    "import numpy as np\n",
    "\n",
    "def generate_embeddings(text):\n",
    "    url = \"https://api.euron.one/api/v1/euri/embeddings\"\n",
    "    headers = {\n",
    "        \"Content-Type\": \"application/json\",\n",
    "        \"Authorization\": \"Bearer \"\n",
    "    }\n",
    "    payload = {\n",
    "        \"input\": text,\n",
    "        \"model\": \"text-embedding-3-small\"\n",
    "    }\n",
    "\n",
    "    response = requests.post(url, headers=headers, json=payload)\n",
    "    data = response.json()\n",
    "    \n",
    "    embedding = np.array(data['data'][0]['embedding'])\n",
    "    \n",
    "    return embedding\n",
    "\n",
    "# text = \"The weather is sunny today.\""
   ]
  },
  {
   "cell_type": "code",
   "execution_count": 18,
   "id": "75c72bfd",
   "metadata": {},
   "outputs": [],
   "source": [
    "embeddings = [generate_embeddings(text).tolist() for text in texts]"
   ]
  },
  {
   "cell_type": "code",
   "execution_count": 19,
   "id": "9169fd23",
   "metadata": {},
   "outputs": [
    {
     "data": {
      "text/plain": [
       "1536"
      ]
     },
     "execution_count": 19,
     "metadata": {},
     "output_type": "execute_result"
    }
   ],
   "source": [
    "len(embeddings[0])"
   ]
  },
  {
   "cell_type": "code",
   "execution_count": null,
   "id": "2bda9fef",
   "metadata": {},
   "outputs": [],
   "source": [
    "vehicles_col = client.create_collection(name=\"vehicles\")"
   ]
  },
  {
   "cell_type": "code",
   "execution_count": null,
   "id": "42aa1286",
   "metadata": {},
   "outputs": [
    {
     "name": "stderr",
     "output_type": "stream",
     "text": [
      "Failed to send telemetry event CollectionAddEvent: capture() takes 1 positional argument but 3 were given\n"
     ]
    }
   ],
   "source": [
    "vehicles_col.add(\n",
    "    documents=texts,\n",
    "    embeddings=embeddings,\n",
    "    ids=[str(i) for i in range(len(texts))]\n",
    ")"
   ]
  },
  {
   "cell_type": "code",
   "execution_count": null,
   "id": "9c5aa67c",
   "metadata": {},
   "outputs": [
    {
     "data": {
      "text/plain": [
       "10"
      ]
     },
     "execution_count": 12,
     "metadata": {},
     "output_type": "execute_result"
    }
   ],
   "source": [
    "vehicles_col.count()"
   ]
  },
  {
   "cell_type": "code",
   "execution_count": null,
   "id": "eb3cf216",
   "metadata": {},
   "outputs": [
    {
     "name": "stderr",
     "output_type": "stream",
     "text": [
      "Failed to send telemetry event CollectionGetEvent: capture() takes 1 positional argument but 3 were given\n"
     ]
    },
    {
     "data": {
      "text/plain": [
       "{'ids': ['0', '1', '2', '3', '4', '5', '6', '7', '8', '9'],\n",
       " 'embeddings': None,\n",
       " 'documents': ['Sudhanshu Kumar was born in Jamshedpur, Jharkhand, India, to a modest family.',\n",
       "  'His early life was marked by financial hardship and limited resources.',\n",
       "  'He believed education could transform his life and pursued it relentlessly.',\n",
       "  'Sudhanshu earned a Computer Science and Engineering degree.',\n",
       "  'He worked at Wipro, Deloitte, Verizon Labs, and Ernst & Young.',\n",
       "  'He gained expertise in SAP WebDynpro, Fiori UI5 HANA, Java, Big Data, and Data Analytics.',\n",
       "  'Sudhanshu remained committed to making education accessible for everyone.',\n",
       "  'His teaching empowered countless students to build their careers.',\n",
       "  'Many students credit him with changing their lives through affordable learning.',\n",
       "  'His journey is a testament to triumph over adversity and the power of knowledge.'],\n",
       " 'uris': None,\n",
       " 'data': None,\n",
       " 'metadatas': [None, None, None, None, None, None, None, None, None, None],\n",
       " 'included': [<IncludeEnum.documents: 'documents'>,\n",
       "  <IncludeEnum.metadatas: 'metadatas'>]}"
      ]
     },
     "execution_count": 13,
     "metadata": {},
     "output_type": "execute_result"
    }
   ],
   "source": [
    "vehicles_col.get()"
   ]
  },
  {
   "cell_type": "code",
   "execution_count": 21,
   "id": "bf4c0bb0",
   "metadata": {},
   "outputs": [],
   "source": [
    "query = \"Sudhanshu worked at Deloitte!\""
   ]
  },
  {
   "cell_type": "code",
   "execution_count": 22,
   "id": "e33e3549",
   "metadata": {},
   "outputs": [],
   "source": [
    "query_embed = generate_embeddings(query).tolist()"
   ]
  },
  {
   "cell_type": "code",
   "execution_count": 23,
   "id": "d6fa0b2d",
   "metadata": {},
   "outputs": [
    {
     "data": {
      "text/plain": [
       "1536"
      ]
     },
     "execution_count": 23,
     "metadata": {},
     "output_type": "execute_result"
    }
   ],
   "source": [
    "len(query_embed)"
   ]
  },
  {
   "cell_type": "code",
   "execution_count": 24,
   "id": "34871c35",
   "metadata": {},
   "outputs": [
    {
     "name": "stderr",
     "output_type": "stream",
     "text": [
      "Failed to send telemetry event CollectionQueryEvent: capture() takes 1 positional argument but 3 were given\n"
     ]
    },
    {
     "data": {
      "text/plain": [
       "{'ids': [['3', '4']],\n",
       " 'embeddings': None,\n",
       " 'documents': [['Sudhanshu earned a Computer Science and Engineering degree.',\n",
       "   'He worked at Wipro, Deloitte, Verizon Labs, and Ernst & Young.']],\n",
       " 'uris': None,\n",
       " 'data': None,\n",
       " 'metadatas': [[None, None]],\n",
       " 'distances': [[0.8026347756385803, 0.9608365297317505]],\n",
       " 'included': [<IncludeEnum.distances: 'distances'>,\n",
       "  <IncludeEnum.documents: 'documents'>,\n",
       "  <IncludeEnum.metadatas: 'metadatas'>]}"
      ]
     },
     "execution_count": 24,
     "metadata": {},
     "output_type": "execute_result"
    }
   ],
   "source": [
    "vehicles_col.query(query_embeddings=[query_embed], n_results=2)"
   ]
  },
  {
   "cell_type": "code",
   "execution_count": null,
   "id": "39e62b6c",
   "metadata": {},
   "outputs": [
    {
     "ename": "ImportError",
     "evalue": "cannot import name 'Space' from 'chromadb.api.types' (/home/rishicarter/miniforge3/envs/streamlitenv/lib/python3.10/site-packages/chromadb/api/types.py)",
     "output_type": "error",
     "traceback": [
      "\u001b[0;31m---------------------------------------------------------------------------\u001b[0m",
      "\u001b[0;31mImportError\u001b[0m                               Traceback (most recent call last)",
      "Cell \u001b[0;32mIn[28], line 3\u001b[0m\n\u001b[1;32m      1\u001b[0m \u001b[38;5;28;01mimport\u001b[39;00m\u001b[38;5;250m \u001b[39m\u001b[38;5;21;01mchromadb\u001b[39;00m\n\u001b[0;32m----> 3\u001b[0m client \u001b[38;5;241m=\u001b[39m \u001b[43mchromadb\u001b[49m\u001b[38;5;241;43m.\u001b[39;49m\u001b[43mCloudClient\u001b[49m\u001b[43m(\u001b[49m\n\u001b[1;32m      4\u001b[0m \u001b[43m  \u001b[49m\u001b[43mapi_key\u001b[49m\u001b[38;5;241;43m=\u001b[39;49m\u001b[38;5;124;43m'\u001b[39;49m\u001b[38;5;124;43mck-BqDnxBCNxG9LGpAopgoZKGLHTaMreDqED1TjybWZfwwv\u001b[39;49m\u001b[38;5;124;43m'\u001b[39;49m\u001b[43m,\u001b[49m\n\u001b[1;32m      5\u001b[0m \u001b[43m  \u001b[49m\u001b[43mtenant\u001b[49m\u001b[38;5;241;43m=\u001b[39;49m\u001b[38;5;124;43m'\u001b[39;49m\u001b[38;5;124;43m3e6ed0c8-5ea7-4b6e-859f-239d48990a7c\u001b[39;49m\u001b[38;5;124;43m'\u001b[39;49m\u001b[43m,\u001b[49m\n\u001b[1;32m      6\u001b[0m \u001b[43m  \u001b[49m\u001b[43mdatabase\u001b[49m\u001b[38;5;241;43m=\u001b[39;49m\u001b[38;5;124;43m'\u001b[39;49m\u001b[38;5;124;43mtest\u001b[39;49m\u001b[38;5;124;43m'\u001b[39;49m\n\u001b[1;32m      7\u001b[0m \u001b[43m)\u001b[49m\n",
      "File \u001b[0;32m~/miniforge3/envs/streamlitenv/lib/python3.10/site-packages/chromadb/__init__.py:314\u001b[0m, in \u001b[0;36mCloudClient\u001b[0;34m(tenant, database, api_key, settings, cloud_host, cloud_port, enable_ssl)\u001b[0m\n\u001b[1;32m    300\u001b[0m \u001b[38;5;28;01mdef\u001b[39;00m\u001b[38;5;250m \u001b[39m\u001b[38;5;21mCloudClient\u001b[39m(\n\u001b[1;32m    301\u001b[0m     tenant: Optional[\u001b[38;5;28mstr\u001b[39m] \u001b[38;5;241m=\u001b[39m \u001b[38;5;28;01mNone\u001b[39;00m,\n\u001b[1;32m    302\u001b[0m     database: Optional[\u001b[38;5;28mstr\u001b[39m] \u001b[38;5;241m=\u001b[39m \u001b[38;5;28;01mNone\u001b[39;00m,\n\u001b[0;32m   (...)\u001b[0m\n\u001b[1;32m    308\u001b[0m     enable_ssl: \u001b[38;5;28mbool\u001b[39m \u001b[38;5;241m=\u001b[39m \u001b[38;5;28;01mTrue\u001b[39;00m,\n\u001b[1;32m    309\u001b[0m ) \u001b[38;5;241m-\u001b[39m\u001b[38;5;241m>\u001b[39m ClientAPI:\n\u001b[1;32m    310\u001b[0m \u001b[38;5;250m    \u001b[39m\u001b[38;5;124;03m\"\"\"\u001b[39;00m\n\u001b[1;32m    311\u001b[0m \u001b[38;5;124;03m    Creates a client to connect to a tennant and database on the Chroma cloud.\u001b[39;00m\n\u001b[1;32m    312\u001b[0m \n\u001b[1;32m    313\u001b[0m \u001b[38;5;124;03m    Args:\u001b[39;00m\n\u001b[0;32m--> 314\u001b[0m \u001b[38;5;124;03m        tenant: The tenant to use for this client.\u001b[39;00m\n\u001b[1;32m    315\u001b[0m \u001b[38;5;124;03m        database: The database to use for this client.\u001b[39;00m\n\u001b[1;32m    316\u001b[0m \u001b[38;5;124;03m        api_key: The api key to use for this client.\u001b[39;00m\n\u001b[1;32m    317\u001b[0m \u001b[38;5;124;03m    \"\"\"\u001b[39;00m\n\u001b[1;32m    318\u001b[0m     required_args \u001b[38;5;241m=\u001b[39m [\n\u001b[1;32m    319\u001b[0m         CloudClientArg(name\u001b[38;5;241m=\u001b[39m\u001b[38;5;124m\"\u001b[39m\u001b[38;5;124mtenant\u001b[39m\u001b[38;5;124m\"\u001b[39m, env_var\u001b[38;5;241m=\u001b[39m\u001b[38;5;124m\"\u001b[39m\u001b[38;5;124mCHROMA_TENANT\u001b[39m\u001b[38;5;124m\"\u001b[39m, value\u001b[38;5;241m=\u001b[39mtenant),\n\u001b[1;32m    320\u001b[0m         CloudClientArg(name\u001b[38;5;241m=\u001b[39m\u001b[38;5;124m\"\u001b[39m\u001b[38;5;124mdatabase\u001b[39m\u001b[38;5;124m\"\u001b[39m, env_var\u001b[38;5;241m=\u001b[39m\u001b[38;5;124m\"\u001b[39m\u001b[38;5;124mCHROMA_DATABASE\u001b[39m\u001b[38;5;124m\"\u001b[39m, value\u001b[38;5;241m=\u001b[39mdatabase),\n\u001b[1;32m    321\u001b[0m         CloudClientArg(name\u001b[38;5;241m=\u001b[39m\u001b[38;5;124m\"\u001b[39m\u001b[38;5;124mapi_key\u001b[39m\u001b[38;5;124m\"\u001b[39m, env_var\u001b[38;5;241m=\u001b[39m\u001b[38;5;124m\"\u001b[39m\u001b[38;5;124mCHROMA_API_KEY\u001b[39m\u001b[38;5;124m\"\u001b[39m, value\u001b[38;5;241m=\u001b[39mapi_key),\n\u001b[1;32m    322\u001b[0m     ]\n\u001b[1;32m    324\u001b[0m     \u001b[38;5;66;03m# If any of tenant, database, or api_key is not provided, try to load it from the environment variable\u001b[39;00m\n",
      "File \u001b[0;32m~/miniforge3/envs/streamlitenv/lib/python3.10/site-packages/chromadb/api/client.py:58\u001b[0m, in \u001b[0;36m__init__\u001b[0;34m(self, tenant, database, settings)\u001b[0m\n\u001b[1;32m     55\u001b[0m # An internal admin client for verifying that databases and tenants exist\n\u001b[1;32m     56\u001b[0m _admin_client: AdminAPI\n\u001b[0;32m---> 58\u001b[0m # region Initialization\n\u001b[1;32m     59\u001b[0m def __init__(\n\u001b[1;32m     60\u001b[0m     self,\n\u001b[1;32m     61\u001b[0m     tenant: str = DEFAULT_TENANT,\n\u001b[1;32m     62\u001b[0m     database: str = DEFAULT_DATABASE,\n\u001b[1;32m     63\u001b[0m     settings: Settings = Settings(),\n\u001b[1;32m     64\u001b[0m ) -> None:\n\u001b[1;32m     65\u001b[0m     super().__init__(settings=settings)\n",
      "File \u001b[0;32m~/miniforge3/envs/streamlitenv/lib/python3.10/site-packages/chromadb/api/shared_system_client.py:19\u001b[0m, in \u001b[0;36mSharedSystemClient.__init__\u001b[0;34m(self, settings)\u001b[0m\n\u001b[1;32m     14\u001b[0m \u001b[38;5;28;01mdef\u001b[39;00m\u001b[38;5;250m \u001b[39m\u001b[38;5;21m__init__\u001b[39m(\n\u001b[1;32m     15\u001b[0m     \u001b[38;5;28mself\u001b[39m,\n\u001b[1;32m     16\u001b[0m     settings: Settings \u001b[38;5;241m=\u001b[39m Settings(),\n\u001b[1;32m     17\u001b[0m ) \u001b[38;5;241m-\u001b[39m\u001b[38;5;241m>\u001b[39m \u001b[38;5;28;01mNone\u001b[39;00m:\n\u001b[1;32m     18\u001b[0m     \u001b[38;5;28mself\u001b[39m\u001b[38;5;241m.\u001b[39m_identifier \u001b[38;5;241m=\u001b[39m SharedSystemClient\u001b[38;5;241m.\u001b[39m_get_identifier_from_settings(settings)\n\u001b[0;32m---> 19\u001b[0m     \u001b[43mSharedSystemClient\u001b[49m\u001b[38;5;241;43m.\u001b[39;49m\u001b[43m_create_system_if_not_exists\u001b[49m\u001b[43m(\u001b[49m\u001b[38;5;28;43mself\u001b[39;49m\u001b[38;5;241;43m.\u001b[39;49m\u001b[43m_identifier\u001b[49m\u001b[43m,\u001b[49m\u001b[43m \u001b[49m\u001b[43msettings\u001b[49m\u001b[43m)\u001b[49m\n",
      "File \u001b[0;32m~/miniforge3/envs/streamlitenv/lib/python3.10/site-packages/chromadb/api/shared_system_client.py:30\u001b[0m, in \u001b[0;36mSharedSystemClient._create_system_if_not_exists\u001b[0;34m(cls, identifier, settings)\u001b[0m\n\u001b[1;32m     27\u001b[0m     \u001b[38;5;28mcls\u001b[39m\u001b[38;5;241m.\u001b[39m_identifier_to_system[identifier] \u001b[38;5;241m=\u001b[39m new_system\n\u001b[1;32m     29\u001b[0m     new_system\u001b[38;5;241m.\u001b[39minstance(ProductTelemetryClient)\n\u001b[0;32m---> 30\u001b[0m     \u001b[43mnew_system\u001b[49m\u001b[38;5;241;43m.\u001b[39;49m\u001b[43minstance\u001b[49m\u001b[43m(\u001b[49m\u001b[43mServerAPI\u001b[49m\u001b[43m)\u001b[49m\n\u001b[1;32m     32\u001b[0m     new_system\u001b[38;5;241m.\u001b[39mstart()\n\u001b[1;32m     33\u001b[0m \u001b[38;5;28;01melse\u001b[39;00m:\n",
      "File \u001b[0;32m~/miniforge3/envs/streamlitenv/lib/python3.10/site-packages/chromadb/config.py:425\u001b[0m, in \u001b[0;36minstance\u001b[0;34m(self, type)\u001b[0m\n\u001b[1;32m    423\u001b[0m     \u001b[38;5;66;03m# Don't apply if reducing the limit\u001b[39;00m\n\u001b[1;32m    424\u001b[0m     \u001b[38;5;28;01melif\u001b[39;00m desired_soft \u001b[38;5;241m<\u001b[39m curr_soft:\n\u001b[0;32m--> 425\u001b[0m         logger\u001b[38;5;241m.\u001b[39mwarning(\n\u001b[1;32m    426\u001b[0m             \u001b[38;5;124mf\u001b[39m\u001b[38;5;124m\"\u001b[39m\u001b[38;5;124mchroma_server_nofile is set to \u001b[39m\u001b[38;5;132;01m{\u001b[39;00mdesired_soft\u001b[38;5;132;01m}\u001b[39;00m\u001b[38;5;124m, but this is less than current soft limit of \u001b[39m\u001b[38;5;132;01m{\u001b[39;00mcurr_soft\u001b[38;5;132;01m}\u001b[39;00m\u001b[38;5;124m. chroma_server_nofile will not be set.\u001b[39m\u001b[38;5;124m\"\u001b[39m\n\u001b[1;32m    427\u001b[0m         )\n\u001b[1;32m    428\u001b[0m \u001b[38;5;28;01melse\u001b[39;00m:\n\u001b[1;32m    429\u001b[0m     logger\u001b[38;5;241m.\u001b[39mwarning(\n\u001b[1;32m    430\u001b[0m         \u001b[38;5;124m\"\u001b[39m\u001b[38;5;124mchroma_server_nofile is not supported on Windows. chroma_server_nofile will not be set.\u001b[39m\u001b[38;5;124m\"\u001b[39m\n\u001b[1;32m    431\u001b[0m     )\n",
      "File \u001b[0;32m~/miniforge3/envs/streamlitenv/lib/python3.10/site-packages/chromadb/config.py:474\u001b[0m, in \u001b[0;36mget_class\u001b[0;34m(fqn, type)\u001b[0m\n\u001b[1;32m    470\u001b[0m     \u001b[38;5;28;01mfor\u001b[39;00m component \u001b[38;5;129;01min\u001b[39;00m \u001b[38;5;28mself\u001b[39m\u001b[38;5;241m.\u001b[39mcomponents():\n\u001b[1;32m    471\u001b[0m         component\u001b[38;5;241m.\u001b[39mstart()\n\u001b[1;32m    473\u001b[0m \u001b[38;5;129m@override\u001b[39m\n\u001b[0;32m--> 474\u001b[0m \u001b[38;5;28;01mdef\u001b[39;00m\u001b[38;5;250m \u001b[39m\u001b[38;5;21mstop\u001b[39m(\u001b[38;5;28mself\u001b[39m) \u001b[38;5;241m-\u001b[39m\u001b[38;5;241m>\u001b[39m \u001b[38;5;28;01mNone\u001b[39;00m:\n\u001b[1;32m    475\u001b[0m     \u001b[38;5;28msuper\u001b[39m()\u001b[38;5;241m.\u001b[39mstop()\n\u001b[1;32m    476\u001b[0m     \u001b[38;5;28;01mfor\u001b[39;00m component \u001b[38;5;129;01min\u001b[39;00m \u001b[38;5;28mreversed\u001b[39m(\u001b[38;5;28mlist\u001b[39m(\u001b[38;5;28mself\u001b[39m\u001b[38;5;241m.\u001b[39mcomponents())):\n",
      "File \u001b[0;32m~/miniforge3/envs/streamlitenv/lib/python3.10/importlib/__init__.py:126\u001b[0m, in \u001b[0;36mimport_module\u001b[0;34m(name, package)\u001b[0m\n\u001b[1;32m    124\u001b[0m             \u001b[38;5;28;01mbreak\u001b[39;00m\n\u001b[1;32m    125\u001b[0m         level \u001b[38;5;241m+\u001b[39m\u001b[38;5;241m=\u001b[39m \u001b[38;5;241m1\u001b[39m\n\u001b[0;32m--> 126\u001b[0m \u001b[38;5;28;01mreturn\u001b[39;00m \u001b[43m_bootstrap\u001b[49m\u001b[38;5;241;43m.\u001b[39;49m\u001b[43m_gcd_import\u001b[49m\u001b[43m(\u001b[49m\u001b[43mname\u001b[49m\u001b[43m[\u001b[49m\u001b[43mlevel\u001b[49m\u001b[43m:\u001b[49m\u001b[43m]\u001b[49m\u001b[43m,\u001b[49m\u001b[43m \u001b[49m\u001b[43mpackage\u001b[49m\u001b[43m,\u001b[49m\u001b[43m \u001b[49m\u001b[43mlevel\u001b[49m\u001b[43m)\u001b[49m\n",
      "File \u001b[0;32m<frozen importlib._bootstrap>:1050\u001b[0m, in \u001b[0;36m_gcd_import\u001b[0;34m(name, package, level)\u001b[0m\n",
      "File \u001b[0;32m<frozen importlib._bootstrap>:1027\u001b[0m, in \u001b[0;36m_find_and_load\u001b[0;34m(name, import_)\u001b[0m\n",
      "File \u001b[0;32m<frozen importlib._bootstrap>:1006\u001b[0m, in \u001b[0;36m_find_and_load_unlocked\u001b[0;34m(name, import_)\u001b[0m\n",
      "File \u001b[0;32m<frozen importlib._bootstrap>:688\u001b[0m, in \u001b[0;36m_load_unlocked\u001b[0;34m(spec)\u001b[0m\n",
      "File \u001b[0;32m<frozen importlib._bootstrap_external>:883\u001b[0m, in \u001b[0;36mexec_module\u001b[0;34m(self, module)\u001b[0m\n",
      "File \u001b[0;32m<frozen importlib._bootstrap>:241\u001b[0m, in \u001b[0;36m_call_with_frames_removed\u001b[0;34m(f, *args, **kwds)\u001b[0m\n",
      "File \u001b[0;32m~/miniforge3/envs/streamlitenv/lib/python3.10/site-packages/chromadb/api/fastapi.py:10\u001b[0m\n\u001b[1;32m      7\u001b[0m \u001b[38;5;28;01mimport\u001b[39;00m\u001b[38;5;250m \u001b[39m\u001b[38;5;21;01murllib\u001b[39;00m\u001b[38;5;21;01m.\u001b[39;00m\u001b[38;5;21;01mparse\u001b[39;00m\n\u001b[1;32m      8\u001b[0m \u001b[38;5;28;01mfrom\u001b[39;00m\u001b[38;5;250m \u001b[39m\u001b[38;5;21;01moverrides\u001b[39;00m\u001b[38;5;250m \u001b[39m\u001b[38;5;28;01mimport\u001b[39;00m override\n\u001b[0;32m---> 10\u001b[0m \u001b[38;5;28;01mfrom\u001b[39;00m\u001b[38;5;250m \u001b[39m\u001b[38;5;21;01mchromadb\u001b[39;00m\u001b[38;5;21;01m.\u001b[39;00m\u001b[38;5;21;01mapi\u001b[39;00m\u001b[38;5;21;01m.\u001b[39;00m\u001b[38;5;21;01mcollection_configuration\u001b[39;00m\u001b[38;5;250m \u001b[39m\u001b[38;5;28;01mimport\u001b[39;00m (\n\u001b[1;32m     11\u001b[0m     CreateCollectionConfiguration,\n\u001b[1;32m     12\u001b[0m     UpdateCollectionConfiguration,\n\u001b[1;32m     13\u001b[0m     update_collection_configuration_to_json,\n\u001b[1;32m     14\u001b[0m     create_collection_configuration_to_json,\n\u001b[1;32m     15\u001b[0m )\n\u001b[1;32m     16\u001b[0m \u001b[38;5;28;01mfrom\u001b[39;00m\u001b[38;5;250m \u001b[39m\u001b[38;5;21;01mchromadb\u001b[39;00m\u001b[38;5;250m \u001b[39m\u001b[38;5;28;01mimport\u001b[39;00m __version__\n\u001b[1;32m     17\u001b[0m \u001b[38;5;28;01mfrom\u001b[39;00m\u001b[38;5;250m \u001b[39m\u001b[38;5;21;01mchromadb\u001b[39;00m\u001b[38;5;21;01m.\u001b[39;00m\u001b[38;5;21;01mapi\u001b[39;00m\u001b[38;5;21;01m.\u001b[39;00m\u001b[38;5;21;01mbase_http_client\u001b[39;00m\u001b[38;5;250m \u001b[39m\u001b[38;5;28;01mimport\u001b[39;00m BaseHTTPClient\n",
      "File \u001b[0;32m~/miniforge3/envs/streamlitenv/lib/python3.10/site-packages/chromadb/api/collection_configuration.py:3\u001b[0m\n\u001b[1;32m      1\u001b[0m \u001b[38;5;28;01mfrom\u001b[39;00m\u001b[38;5;250m \u001b[39m\u001b[38;5;21;01mtyping\u001b[39;00m\u001b[38;5;250m \u001b[39m\u001b[38;5;28;01mimport\u001b[39;00m TypedDict, Dict, Any, Optional, cast, get_args\n\u001b[1;32m      2\u001b[0m \u001b[38;5;28;01mimport\u001b[39;00m\u001b[38;5;250m \u001b[39m\u001b[38;5;21;01mjson\u001b[39;00m\n\u001b[0;32m----> 3\u001b[0m \u001b[38;5;28;01mfrom\u001b[39;00m\u001b[38;5;250m \u001b[39m\u001b[38;5;21;01mchromadb\u001b[39;00m\u001b[38;5;21;01m.\u001b[39;00m\u001b[38;5;21;01mapi\u001b[39;00m\u001b[38;5;21;01m.\u001b[39;00m\u001b[38;5;21;01mtypes\u001b[39;00m\u001b[38;5;250m \u001b[39m\u001b[38;5;28;01mimport\u001b[39;00m (\n\u001b[1;32m      4\u001b[0m     Space,\n\u001b[1;32m      5\u001b[0m     CollectionMetadata,\n\u001b[1;32m      6\u001b[0m     UpdateMetadata,\n\u001b[1;32m      7\u001b[0m     EmbeddingFunction,\n\u001b[1;32m      8\u001b[0m )\n\u001b[1;32m      9\u001b[0m \u001b[38;5;28;01mfrom\u001b[39;00m\u001b[38;5;250m \u001b[39m\u001b[38;5;21;01mchromadb\u001b[39;00m\u001b[38;5;21;01m.\u001b[39;00m\u001b[38;5;21;01mutils\u001b[39;00m\u001b[38;5;21;01m.\u001b[39;00m\u001b[38;5;21;01membedding_functions\u001b[39;00m\u001b[38;5;250m \u001b[39m\u001b[38;5;28;01mimport\u001b[39;00m (\n\u001b[1;32m     10\u001b[0m     known_embedding_functions,\n\u001b[1;32m     11\u001b[0m     register_embedding_function,\n\u001b[1;32m     12\u001b[0m )\n\u001b[1;32m     13\u001b[0m \u001b[38;5;28;01mfrom\u001b[39;00m\u001b[38;5;250m \u001b[39m\u001b[38;5;21;01mmultiprocessing\u001b[39;00m\u001b[38;5;250m \u001b[39m\u001b[38;5;28;01mimport\u001b[39;00m cpu_count\n",
      "\u001b[0;31mImportError\u001b[0m: cannot import name 'Space' from 'chromadb.api.types' (/home/rishicarter/miniforge3/envs/streamlitenv/lib/python3.10/site-packages/chromadb/api/types.py)"
     ]
    }
   ],
   "source": [
    "import chromadb\n",
    "  \n",
    "client = chromadb.CloudClient(\n",
    "  api_key='',\n",
    "  tenant='3e6ed0c8-5ea7-4b6e-859f-239d48990a7c',\n",
    "  database='test'\n",
    ")"
   ]
  },
  {
   "cell_type": "code",
   "execution_count": null,
   "id": "035e0014",
   "metadata": {},
   "outputs": [],
   "source": []
  },
  {
   "cell_type": "code",
   "execution_count": null,
   "id": "3fa8055b",
   "metadata": {},
   "outputs": [],
   "source": []
  },
  {
   "cell_type": "code",
   "execution_count": null,
   "id": "81061f1e",
   "metadata": {},
   "outputs": [],
   "source": []
  },
  {
   "cell_type": "code",
   "execution_count": null,
   "id": "6ac8b702",
   "metadata": {},
   "outputs": [],
   "source": []
  }
 ],
 "metadata": {
  "kernelspec": {
   "display_name": "streamlitenv",
   "language": "python",
   "name": "python3"
  },
  "language_info": {
   "codemirror_mode": {
    "name": "ipython",
    "version": 3
   },
   "file_extension": ".py",
   "mimetype": "text/x-python",
   "name": "python",
   "nbconvert_exporter": "python",
   "pygments_lexer": "ipython3",
   "version": "3.10.16"
  }
 },
 "nbformat": 4,
 "nbformat_minor": 5
}
