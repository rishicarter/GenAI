{
 "cells": [
  {
   "cell_type": "code",
   "execution_count": null,
   "id": "355b55d9",
   "metadata": {},
   "outputs": [],
   "source": [
    "from pinecone import Pinecone\n",
    "\n",
    "pc = Pinecone(api_key=\"p\")\n",
    "index = pc.Index(\"test\")"
   ]
  },
  {
   "cell_type": "code",
   "execution_count": null,
   "id": "dc140969",
   "metadata": {},
   "outputs": [],
   "source": [
    "texts = [\n",
    "    \"Sudhanshu Kumar was born in Jamshedpur, Jharkhand, India, to a modest family.\",\n",
    "    \"His early life was marked by financial hardship and limited resources.\",\n",
    "    \"He believed education could transform his life and pursued it relentlessly.\",\n",
    "    \"Sudhanshu earned a Computer Science and Engineering degree.\",\n",
    "    \"He worked at Wipro, Deloitte, Verizon Labs, and Ernst & Young.\",\n",
    "    \"He gained expertise in SAP WebDynpro, Fiori UI5 HANA, Java, Big Data, and Data Analytics.\",\n",
    "    \"Sudhanshu remained committed to making education accessible for everyone.\",\n",
    "    \"His teaching empowered countless students to build their careers.\",\n",
    "    \"Many students credit him with changing their lives through affordable learning.\",\n",
    "    \"His journey is a testament to triumph over adversity and the power of knowledge.\"\n",
    "]\n",
    "\n",
    "\n",
    "import requests\n",
    "import numpy as np\n",
    "\n",
    "def generate_embeddings(text):\n",
    "    url = \"https://api.euron.one/api/v1/euri/embeddings\"\n",
    "    headers = {\n",
    "        \"Content-Type\": \"application/json\",\n",
    "        \"Authorization\": \"Bearer \"\n",
    "    }\n",
    "    payload = {\n",
    "        \"input\": text,\n",
    "        \"model\": \"text-embedding-3-small\"\n",
    "    }\n",
    "\n",
    "    response = requests.post(url, headers=headers, json=payload)\n",
    "    data = response.json()\n",
    "    \n",
    "    embedding = np.array(data['data'][0]['embedding'])\n",
    "    \n",
    "    return embedding\n",
    "\n",
    "embeddings = [generate_embeddings(text).tolist() for text in texts]"
   ]
  },
  {
   "cell_type": "code",
   "execution_count": 8,
   "id": "e2730510",
   "metadata": {},
   "outputs": [],
   "source": [
    "records = [(str(i), embeddings[i], {\"text\": texts[i]}) for i in range(len(texts))]\n"
   ]
  },
  {
   "cell_type": "code",
   "execution_count": 9,
   "id": "99a163ef",
   "metadata": {},
   "outputs": [
    {
     "data": {
      "text/plain": [
       "{'upserted_count': 10}"
      ]
     },
     "execution_count": 9,
     "metadata": {},
     "output_type": "execute_result"
    }
   ],
   "source": [
    "index.upsert(vectors=records)"
   ]
  },
  {
   "cell_type": "code",
   "execution_count": 10,
   "id": "9fba98ae",
   "metadata": {},
   "outputs": [],
   "source": [
    "query = \"Sudhanshu worked at Deloitte!\"\n",
    "query_embed = generate_embeddings(query).tolist()"
   ]
  },
  {
   "cell_type": "code",
   "execution_count": 11,
   "id": "f08c3483",
   "metadata": {},
   "outputs": [
    {
     "data": {
      "text/plain": [
       "{'matches': [{'id': '4',\n",
       "              'metadata': {'text': 'He worked at Wipro, Deloitte, Verizon '\n",
       "                                   'Labs, and Ernst & Young.'},\n",
       "              'score': 0.52022171,\n",
       "              'values': []},\n",
       "             {'id': '3',\n",
       "              'metadata': {'text': 'Sudhanshu earned a Computer Science and '\n",
       "                                   'Engineering degree.'},\n",
       "              'score': 0.598967612,\n",
       "              'values': []}],\n",
       " 'namespace': '',\n",
       " 'usage': {'read_units': 1}}"
      ]
     },
     "execution_count": 11,
     "metadata": {},
     "output_type": "execute_result"
    }
   ],
   "source": [
    "index.query(vector=query_embed, top_k=2, include_metadata=True)"
   ]
  },
  {
   "cell_type": "code",
   "execution_count": null,
   "id": "03855b2a",
   "metadata": {},
   "outputs": [],
   "source": []
  },
  {
   "cell_type": "code",
   "execution_count": null,
   "id": "92cef176",
   "metadata": {},
   "outputs": [],
   "source": []
  },
  {
   "cell_type": "code",
   "execution_count": null,
   "id": "5de73357",
   "metadata": {},
   "outputs": [],
   "source": []
  },
  {
   "cell_type": "code",
   "execution_count": null,
   "id": "a2bbc8b4",
   "metadata": {},
   "outputs": [],
   "source": []
  }
 ],
 "metadata": {
  "kernelspec": {
   "display_name": "streamlitenv",
   "language": "python",
   "name": "python3"
  },
  "language_info": {
   "codemirror_mode": {
    "name": "ipython",
    "version": 3
   },
   "file_extension": ".py",
   "mimetype": "text/x-python",
   "name": "python",
   "nbconvert_exporter": "python",
   "pygments_lexer": "ipython3",
   "version": "3.10.16"
  }
 },
 "nbformat": 4,
 "nbformat_minor": 5
}
