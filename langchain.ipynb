{
 "cells": [
  {
   "cell_type": "code",
   "execution_count": 7,
   "id": "e6c81c9c",
   "metadata": {},
   "outputs": [],
   "source": [
    "import ast, re, math, os, sys"
   ]
  },
  {
   "cell_type": "code",
   "execution_count": null,
   "id": "8410eaa3",
   "metadata": {},
   "outputs": [],
   "source": [
    "os.environ['euri-api-key'] = \"\""
   ]
  },
  {
   "cell_type": "code",
   "execution_count": null,
   "id": "9e5e370f",
   "metadata": {},
   "outputs": [
    {
     "name": "stdout",
     "output_type": "stream",
     "text": [
      "Artificial intelligence (AI) refers to the simulation of human intelligence processes by computers and machine systems. It involves creating algorithms and programs that enable machines to perform tasks that typically require human intelligence, such as understanding natural language, recognizing patterns, solving problems, learning from experience, and making decisions. AI can be categorized into narrow AI, which is designed for specific tasks (like voice assistants or recommendation systems), and general AI, which would possess the ability to perform any intellectual task a human can do (though this level of AI is still theoretical).\n"
     ]
    }
   ],
   "source": [
    "from euriai.langchain import create_chat_model\n",
    "\n",
    "chat_model = create_chat_model(\n",
    "    api_key=os.getenv(\"euri-api-key\"),\n",
    "    model=\"gpt-4.1-nano\",\n",
    "    temperature=0.7\n",
    ")\n",
    "\n",
    "response = chat_model.invoke(\"What is artificial intelligence?\")\n",
    "print(response.content)"
   ]
  },
  {
   "cell_type": "code",
   "execution_count": 2,
   "id": "bb4a96f7",
   "metadata": {},
   "outputs": [
    {
     "name": "stdout",
     "output_type": "stream",
     "text": [
      "2.11.7\n"
     ]
    }
   ],
   "source": [
    "import pydantic\n",
    "print(pydantic.__version__)"
   ]
  },
  {
   "cell_type": "code",
   "execution_count": 4,
   "id": "56c4773c",
   "metadata": {},
   "outputs": [
    {
     "name": "stdout",
     "output_type": "stream",
     "text": [
      "1.0.32\n"
     ]
    }
   ],
   "source": [
    "import euriai\n",
    "print(euriai.__version__)"
   ]
  },
  {
   "cell_type": "code",
   "execution_count": null,
   "id": "5a0e7629",
   "metadata": {},
   "outputs": [
    {
     "name": "stdout",
     "output_type": "stream",
     "text": [
      "Once upon a time in a small village nestled between rolling hills and dense forests, there lived a curious young girl named Lily. She was known for her adventurous spirit and her love for exploring the world around her.\n",
      "\n",
      "One sunny morning, Lily decided to venture deeper into the woods than ever before. As she wandered beneath the canopy of ancient trees, she stumbled upon a hidden path she had never seen. Intrigued, she followed it, her footsteps muffled by soft moss and fallen leaves.\n",
      "\n",
      "The path led her to a sparkling clearing where a peculiar, shimmering stone sat atop a pedestal. The stone radiated a gentle glow, casting colorful patterns on the surrounding grass. As Lily reached out to touch it, a warm voice echoed in her mind, welcoming her and revealing that the stone was a magical gem capable of granting one heartfelt wish.\n",
      "\n",
      "Lily thought carefully. She could wish for riches, fame, or endless adventures, but instead, she wished for something more meaningful — to bring happiness and peace to her village. The moment she made her wish, the gem glowed brighter, and a wave of warmth spread through the land.\n",
      "\n",
      "From that day on, the village prospered, crops grew abundant, and everyone lived in harmony. Lily learned that sometimes, the greatest magic lies not in treasures, but in kindness and hope. And so, she continued her adventures, always guided by a generous heart and a curious mind.\n",
      "\n",
      "And they all lived happily ever after."
     ]
    }
   ],
   "source": [
    "from euriai.langchain import create_chat_model\n",
    "\n",
    "# Full streaming support\n",
    "chat_model = create_chat_model(api_key=os.getenv(\"euri-api-key\"))\n",
    "\n",
    "# Streaming response\n",
    "for chunk in chat_model.stream(\"Tell me a story\"):\n",
    "    print(chunk.content, end=\"\", flush=True)\n",
    "\n",
    "# Async streaming\n",
    "import asyncio\n",
    "\n",
    "async def async_stream():\n",
    "    async for chunk in chat_model.astream(\"Tell me a story\"):\n",
    "        print(chunk.content, end=\"\", flush=True)"
   ]
  },
  {
   "cell_type": "code",
   "execution_count": 22,
   "id": "a3411f8c",
   "metadata": {},
   "outputs": [],
   "source": [
    "from euriai.langchain import create_chat_model\n",
    "from langchain.agents import create_react_agent, AgentExecutor\n",
    "from langchain_core.prompts import PromptTemplate, ChatPromptTemplate, MessagesPlaceholder\n",
    "from langchain.output_parsers.structured import StructuredOutputParser, ResponseSchema\n",
    "from langchain_core.output_parsers import StrOutputParser\n",
    "from langchain_core.runnables import RunnablePassthrough, RunnableLambda, RunnableWithMessageHistory\n",
    "from langchain_core.chat_history import BaseChatMessageHistory, InMemoryChatMessageHistory as ChatMessageHistory\n",
    "from langchain_core.tools import BaseTool, tool\n",
    "from langchain.memory import (\n",
    "    ConversationBufferMemory,\n",
    "    ConversationBufferWindowMemory,\n",
    "    ConversationSummaryMemory,\n",
    "    CombinedMemory,\n",
    "    ReadOnlySharedMemory,\n",
    "    ConversationEntityMemory\n",
    ")"
   ]
  },
  {
   "cell_type": "code",
   "execution_count": 24,
   "id": "fb0998f8",
   "metadata": {},
   "outputs": [],
   "source": [
    "llm_oss120b = create_chat_model(\n",
    "    api_key=os.getenv(\"euri-api-key\"),\n",
    "    model=\"openai/gpt-oss-120b\",\n",
    "    temperature=0.2\n",
    ")"
   ]
  },
  {
   "cell_type": "code",
   "execution_count": 25,
   "id": "1c4883c8",
   "metadata": {},
   "outputs": [
    {
     "name": "stdout",
     "output_type": "stream",
     "text": [
      "**Artificial intelligence (AI)** is a branch of computer science that aims to create machines and software capable of performing tasks that normally require human intelligence. These tasks include learning, reasoning, problem‑solving, perception, language understanding, and even creativity.\n",
      "\n",
      "### Core Ideas Behind AI\n",
      "| Concept | What It Means |\n",
      "|---------|---------------|\n",
      "| **Machine Learning (ML)** | Algorithms that improve their performance automatically as they are exposed to more data (e.g., predicting house prices). |\n",
      "| **Deep Learning** | A subset of ML that uses multi‑layered neural networks to model complex patterns (e.g., image and speech recognition). |\n",
      "| **Natural Language Processing (NLP)** | Techniques for understanding, generating, and translating human language (e.g., chatbots, translation services). |\n",
      "| **Computer Vision** | Enabling machines to interpret visual information from cameras or images (e.g., facial recognition, autonomous driving). |\n",
      "| **Planning & Decision‑Making** | Algorithms that choose optimal actions over time (e.g., game‑playing agents, robotics navigation). |\n",
      "| **Knowledge Representation & Reasoning** | Structuring information so a system can draw logical conclusions (e.g., expert systems, semantic web). |\n",
      "\n",
      "### How AI Is Categorized\n",
      "| Category | Description | Typical Examples |\n",
      "|----------|-------------|------------------|\n",
      "| **Narrow (Weak) AI** | Designed for a specific task; cannot generalize beyond its domain. | Voice assistants (Siri, Alexa), recommendation engines, spam filters. |\n",
      "| **General (Strong) AI** | Hypothetical systems that would match or exceed human intelligence across any task. | Still a research goal; not yet realized. |\n",
      "| **Superintelligent AI** | An intelligence far surpassing human capabilities in all domains. | Purely speculative at this stage. |\n",
      "\n",
      "### Real‑World Applications\n",
      "- **Healthcare:** Diagnostic imaging, drug discovery, personalized treatment plans.  \n",
      "- **Finance:** Fraud detection, algorithmic trading, credit scoring.  \n",
      "- **Transportation:** Autonomous vehicles, traffic‑flow optimization.  \n",
      "- **Customer Service:** Chatbots, sentiment analysis, automated ticket routing.  \n",
      "- **Entertainment:** Content recommendation, procedural game design, deep‑fake generation.  \n",
      "- **Manufacturing:** Predictive maintenance, quality inspection, robotic assembly lines.\n",
      "\n",
      "### Key Challenges & Ethical Concerns\n",
      "1. **Bias & Fairness:** AI models can inherit prejudices present in training data.  \n",
      "2. **Transparency (Explainability):** Complex models (especially deep nets) are often “black boxes.”  \n",
      "3. **Privacy:** Large datasets may contain sensitive personal information.  \n",
      "4. **Job Displacement:** Automation can shift labor markets, requiring reskilling.  \n",
      "5. **Safety & Control:** Ensuring AI behaves as intended, especially in high‑stakes settings (e.g., autonomous weapons, medical devices).  \n",
      "\n",
      "### A Simple Analogy\n",
      "Think of AI as **teaching a computer to learn from experience**—much like a child learns to recognize a dog after seeing many pictures of dogs. Instead of hard‑coding every rule (“a dog has four legs, barks, etc.”), we give the computer data and let it infer the patterns on its own.\n",
      "\n",
      "---\n",
      "\n",
      "**In a nutshell:** Artificial intelligence is the science and engineering of building systems that can perceive, reason, learn, and act autonomously, mimicking—or eventually surpassing—human cognitive abilities. Its impact is already reshaping many aspects of daily life, and its future development raises both exciting possibilities and important societal questions.\n"
     ]
    }
   ],
   "source": [
    "response = llm_oss120b.invoke(\"What is artificial intelligence?\")\n",
    "print(response.content)"
   ]
  },
  {
   "cell_type": "code",
   "execution_count": null,
   "id": "6dd7b609",
   "metadata": {},
   "outputs": [],
   "source": []
  },
  {
   "cell_type": "code",
   "execution_count": null,
   "id": "272a12f1",
   "metadata": {},
   "outputs": [],
   "source": []
  },
  {
   "cell_type": "code",
   "execution_count": null,
   "id": "a70f3b2d",
   "metadata": {},
   "outputs": [],
   "source": []
  }
 ],
 "metadata": {
  "kernelspec": {
   "display_name": "streamlitenv",
   "language": "python",
   "name": "python3"
  },
  "language_info": {
   "codemirror_mode": {
    "name": "ipython",
    "version": 3
   },
   "file_extension": ".py",
   "mimetype": "text/x-python",
   "name": "python",
   "nbconvert_exporter": "python",
   "pygments_lexer": "ipython3",
   "version": "3.10.18"
  }
 },
 "nbformat": 4,
 "nbformat_minor": 5
}
